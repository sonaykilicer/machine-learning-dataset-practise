{
 "cells": [
  {
   "cell_type": "code",
   "execution_count": 1,
   "id": "7206ca14",
   "metadata": {
    "_cell_guid": "b1076dfc-b9ad-4769-8c92-a6c4dae69d19",
    "_uuid": "8f2839f25d086af736a60e9eeb907d3b93b6e0e5",
    "execution": {
     "iopub.execute_input": "2022-05-06T16:05:03.660924Z",
     "iopub.status.busy": "2022-05-06T16:05:03.660448Z",
     "iopub.status.idle": "2022-05-06T16:05:04.795243Z",
     "shell.execute_reply": "2022-05-06T16:05:04.794070Z"
    },
    "papermill": {
     "duration": 1.202864,
     "end_time": "2022-05-06T16:05:04.798506",
     "exception": false,
     "start_time": "2022-05-06T16:05:03.595642",
     "status": "completed"
    },
    "tags": []
   },
   "outputs": [
    {
     "name": "stdout",
     "output_type": "stream",
     "text": [
      "/kaggle/input/machine/train.csv\n"
     ]
    }
   ],
   "source": [
    "\n",
    "import numpy as np # linear algebra\n",
    "import pandas as pd # data processing, CSV file I/O (e.g. pd.read_csv)\n",
    "pd.plotting.register_matplotlib_converters()\n",
    "import matplotlib.pyplot as plt\n",
    "%matplotlib inline\n",
    "import seaborn as sns\n",
    "\n",
    "\n",
    "import os\n",
    "for dirname, _, filenames in os.walk('/kaggle/input'):\n",
    "    for filename in filenames:\n",
    "        print(os.path.join(dirname, filename))\n"
   ]
  },
  {
   "cell_type": "markdown",
   "id": "4d1bb202",
   "metadata": {
    "papermill": {
     "duration": 0.049223,
     "end_time": "2022-05-06T16:05:04.901678",
     "exception": false,
     "start_time": "2022-05-06T16:05:04.852455",
     "status": "completed"
    },
    "tags": []
   },
   "source": [
    "0) "
   ]
  },
  {
   "cell_type": "code",
   "execution_count": 2,
   "id": "35f4f90a",
   "metadata": {
    "execution": {
     "iopub.execute_input": "2022-05-06T16:05:05.002541Z",
     "iopub.status.busy": "2022-05-06T16:05:05.001587Z",
     "iopub.status.idle": "2022-05-06T16:05:05.116767Z",
     "shell.execute_reply": "2022-05-06T16:05:05.116050Z"
    },
    "papermill": {
     "duration": 0.168536,
     "end_time": "2022-05-06T16:05:05.119861",
     "exception": false,
     "start_time": "2022-05-06T16:05:04.951325",
     "status": "completed"
    },
    "tags": []
   },
   "outputs": [
    {
     "data": {
      "text/html": [
       "<div>\n",
       "<style scoped>\n",
       "    .dataframe tbody tr th:only-of-type {\n",
       "        vertical-align: middle;\n",
       "    }\n",
       "\n",
       "    .dataframe tbody tr th {\n",
       "        vertical-align: top;\n",
       "    }\n",
       "\n",
       "    .dataframe thead th {\n",
       "        text-align: right;\n",
       "    }\n",
       "</style>\n",
       "<table border=\"1\" class=\"dataframe\">\n",
       "  <thead>\n",
       "    <tr style=\"text-align: right;\">\n",
       "      <th></th>\n",
       "      <th>self previous shot</th>\n",
       "      <th>player position</th>\n",
       "      <th>home game</th>\n",
       "      <th>location x</th>\n",
       "      <th>opponent previous shot</th>\n",
       "      <th>home team</th>\n",
       "      <th>shot type</th>\n",
       "      <th>points</th>\n",
       "      <th>away team</th>\n",
       "      <th>location y</th>\n",
       "      <th>time</th>\n",
       "      <th>date</th>\n",
       "      <th>shoot player</th>\n",
       "      <th>time from last shot</th>\n",
       "      <th>quarter</th>\n",
       "      <th>current shot outcome</th>\n",
       "      <th>My_Team</th>\n",
       "      <th>HomeAway</th>\n",
       "      <th>points_gained</th>\n",
       "      <th>difference</th>\n",
       "    </tr>\n",
       "  </thead>\n",
       "  <tbody>\n",
       "    <tr>\n",
       "      <th>0</th>\n",
       "      <td>NaN</td>\n",
       "      <td>PG</td>\n",
       "      <td>No</td>\n",
       "      <td>881.0</td>\n",
       "      <td>NaN</td>\n",
       "      <td>CLE</td>\n",
       "      <td>Driving Layup</td>\n",
       "      <td>2</td>\n",
       "      <td>NYK</td>\n",
       "      <td>246.0</td>\n",
       "      <td>0:20</td>\n",
       "      <td>2016-10-25</td>\n",
       "      <td>Derrick Rose</td>\n",
       "      <td>NaN</td>\n",
       "      <td>1</td>\n",
       "      <td>SCORED</td>\n",
       "      <td>OPP</td>\n",
       "      <td>CLE_NYK</td>\n",
       "      <td>2.0</td>\n",
       "      <td>0.0</td>\n",
       "    </tr>\n",
       "    <tr>\n",
       "      <th>1</th>\n",
       "      <td>NaN</td>\n",
       "      <td>PF</td>\n",
       "      <td>Yes</td>\n",
       "      <td>87.0</td>\n",
       "      <td>SCORED</td>\n",
       "      <td>CLE</td>\n",
       "      <td>Hook Shot</td>\n",
       "      <td>2</td>\n",
       "      <td>NYK</td>\n",
       "      <td>239.0</td>\n",
       "      <td>0:34</td>\n",
       "      <td>2016-10-25</td>\n",
       "      <td>Kevin Love</td>\n",
       "      <td>NaN</td>\n",
       "      <td>1</td>\n",
       "      <td>MISSED</td>\n",
       "      <td>CLE</td>\n",
       "      <td>CLE_NYK</td>\n",
       "      <td>0.0</td>\n",
       "      <td>-2.0</td>\n",
       "    </tr>\n",
       "    <tr>\n",
       "      <th>2</th>\n",
       "      <td>SCORED</td>\n",
       "      <td>SF</td>\n",
       "      <td>No</td>\n",
       "      <td>760.0</td>\n",
       "      <td>MISSED</td>\n",
       "      <td>CLE</td>\n",
       "      <td>Jump Shot</td>\n",
       "      <td>2</td>\n",
       "      <td>NYK</td>\n",
       "      <td>102.0</td>\n",
       "      <td>0:44</td>\n",
       "      <td>2016-10-25</td>\n",
       "      <td>Carmelo Anthony</td>\n",
       "      <td>24.0</td>\n",
       "      <td>1</td>\n",
       "      <td>MISSED</td>\n",
       "      <td>OPP</td>\n",
       "      <td>CLE_NYK</td>\n",
       "      <td>0.0</td>\n",
       "      <td>-2.0</td>\n",
       "    </tr>\n",
       "    <tr>\n",
       "      <th>3</th>\n",
       "      <td>MISSED</td>\n",
       "      <td>PF</td>\n",
       "      <td>No</td>\n",
       "      <td>890.0</td>\n",
       "      <td>MISSED</td>\n",
       "      <td>CLE</td>\n",
       "      <td>Tip Layup Shot</td>\n",
       "      <td>2</td>\n",
       "      <td>NYK</td>\n",
       "      <td>226.0</td>\n",
       "      <td>0:45</td>\n",
       "      <td>2016-10-25</td>\n",
       "      <td>Kristaps Porzingis</td>\n",
       "      <td>1.0</td>\n",
       "      <td>1</td>\n",
       "      <td>SCORED</td>\n",
       "      <td>OPP</td>\n",
       "      <td>CLE_NYK</td>\n",
       "      <td>2.0</td>\n",
       "      <td>-2.0</td>\n",
       "    </tr>\n",
       "    <tr>\n",
       "      <th>4</th>\n",
       "      <td>SCORED</td>\n",
       "      <td>SF</td>\n",
       "      <td>Yes</td>\n",
       "      <td>52.0</td>\n",
       "      <td>MISSED</td>\n",
       "      <td>CLE</td>\n",
       "      <td>Running Dunk</td>\n",
       "      <td>2</td>\n",
       "      <td>NYK</td>\n",
       "      <td>250.0</td>\n",
       "      <td>10:05</td>\n",
       "      <td>2016-10-25</td>\n",
       "      <td>Richard Jefferson</td>\n",
       "      <td>21.0</td>\n",
       "      <td>1</td>\n",
       "      <td>SCORED</td>\n",
       "      <td>CLE</td>\n",
       "      <td>CLE_NYK</td>\n",
       "      <td>2.0</td>\n",
       "      <td>-4.0</td>\n",
       "    </tr>\n",
       "    <tr>\n",
       "      <th>...</th>\n",
       "      <td>...</td>\n",
       "      <td>...</td>\n",
       "      <td>...</td>\n",
       "      <td>...</td>\n",
       "      <td>...</td>\n",
       "      <td>...</td>\n",
       "      <td>...</td>\n",
       "      <td>...</td>\n",
       "      <td>...</td>\n",
       "      <td>...</td>\n",
       "      <td>...</td>\n",
       "      <td>...</td>\n",
       "      <td>...</td>\n",
       "      <td>...</td>\n",
       "      <td>...</td>\n",
       "      <td>...</td>\n",
       "      <td>...</td>\n",
       "      <td>...</td>\n",
       "      <td>...</td>\n",
       "      <td>...</td>\n",
       "    </tr>\n",
       "    <tr>\n",
       "      <th>13546</th>\n",
       "      <td>MISSED</td>\n",
       "      <td>C</td>\n",
       "      <td>Yes</td>\n",
       "      <td>838.0</td>\n",
       "      <td>SCORED</td>\n",
       "      <td>CLE</td>\n",
       "      <td>Hook Shot</td>\n",
       "      <td>2</td>\n",
       "      <td>TOR</td>\n",
       "      <td>270.0</td>\n",
       "      <td>8:42</td>\n",
       "      <td>2017-04-12</td>\n",
       "      <td>Walter Tavares</td>\n",
       "      <td>76.0</td>\n",
       "      <td>4</td>\n",
       "      <td>MISSED</td>\n",
       "      <td>CLE</td>\n",
       "      <td>CLE_TOR</td>\n",
       "      <td>0.0</td>\n",
       "      <td>-22.0</td>\n",
       "    </tr>\n",
       "    <tr>\n",
       "      <th>13547</th>\n",
       "      <td>SCORED</td>\n",
       "      <td>SF</td>\n",
       "      <td>No</td>\n",
       "      <td>87.0</td>\n",
       "      <td>MISSED</td>\n",
       "      <td>CLE</td>\n",
       "      <td>Jump Shot</td>\n",
       "      <td>2</td>\n",
       "      <td>TOR</td>\n",
       "      <td>59.0</td>\n",
       "      <td>8:52</td>\n",
       "      <td>2017-04-12</td>\n",
       "      <td>Bruno Caboclo</td>\n",
       "      <td>25.0</td>\n",
       "      <td>4</td>\n",
       "      <td>SCORED</td>\n",
       "      <td>OPP</td>\n",
       "      <td>CLE_TOR</td>\n",
       "      <td>2.0</td>\n",
       "      <td>-22.0</td>\n",
       "    </tr>\n",
       "    <tr>\n",
       "      <th>13548</th>\n",
       "      <td>MISSED</td>\n",
       "      <td>SF</td>\n",
       "      <td>Yes</td>\n",
       "      <td>895.0</td>\n",
       "      <td>SCORED</td>\n",
       "      <td>CLE</td>\n",
       "      <td>Jump Shot</td>\n",
       "      <td>3</td>\n",
       "      <td>TOR</td>\n",
       "      <td>22.0</td>\n",
       "      <td>9:15</td>\n",
       "      <td>2017-04-12</td>\n",
       "      <td>James Jones</td>\n",
       "      <td>33.0</td>\n",
       "      <td>4</td>\n",
       "      <td>MISSED</td>\n",
       "      <td>CLE</td>\n",
       "      <td>CLE_TOR</td>\n",
       "      <td>0.0</td>\n",
       "      <td>-24.0</td>\n",
       "    </tr>\n",
       "    <tr>\n",
       "      <th>13549</th>\n",
       "      <td>SCORED</td>\n",
       "      <td>C</td>\n",
       "      <td>No</td>\n",
       "      <td>298.0</td>\n",
       "      <td>MISSED</td>\n",
       "      <td>CLE</td>\n",
       "      <td>Jump Shot</td>\n",
       "      <td>3</td>\n",
       "      <td>TOR</td>\n",
       "      <td>221.0</td>\n",
       "      <td>9:33</td>\n",
       "      <td>2017-04-12</td>\n",
       "      <td>Lucas Nogueira</td>\n",
       "      <td>41.0</td>\n",
       "      <td>4</td>\n",
       "      <td>MISSED</td>\n",
       "      <td>OPP</td>\n",
       "      <td>CLE_TOR</td>\n",
       "      <td>0.0</td>\n",
       "      <td>-24.0</td>\n",
       "    </tr>\n",
       "    <tr>\n",
       "      <th>13550</th>\n",
       "      <td>MISSED</td>\n",
       "      <td>SF</td>\n",
       "      <td>Yes</td>\n",
       "      <td>887.0</td>\n",
       "      <td>MISSED</td>\n",
       "      <td>CLE</td>\n",
       "      <td>Driving Reverse Layup</td>\n",
       "      <td>2</td>\n",
       "      <td>TOR</td>\n",
       "      <td>262.0</td>\n",
       "      <td>9:42</td>\n",
       "      <td>2017-04-12</td>\n",
       "      <td>James Jones</td>\n",
       "      <td>27.0</td>\n",
       "      <td>4</td>\n",
       "      <td>SCORED</td>\n",
       "      <td>CLE</td>\n",
       "      <td>CLE_TOR</td>\n",
       "      <td>2.0</td>\n",
       "      <td>-24.0</td>\n",
       "    </tr>\n",
       "  </tbody>\n",
       "</table>\n",
       "<p>13551 rows × 20 columns</p>\n",
       "</div>"
      ],
      "text/plain": [
       "      self previous shot player position home game  location x  \\\n",
       "0                    NaN              PG        No       881.0   \n",
       "1                    NaN              PF       Yes        87.0   \n",
       "2                 SCORED              SF        No       760.0   \n",
       "3                 MISSED              PF        No       890.0   \n",
       "4                 SCORED              SF       Yes        52.0   \n",
       "...                  ...             ...       ...         ...   \n",
       "13546             MISSED               C       Yes       838.0   \n",
       "13547             SCORED              SF        No        87.0   \n",
       "13548             MISSED              SF       Yes       895.0   \n",
       "13549             SCORED               C        No       298.0   \n",
       "13550             MISSED              SF       Yes       887.0   \n",
       "\n",
       "      opponent previous shot home team              shot type  points  \\\n",
       "0                        NaN       CLE          Driving Layup       2   \n",
       "1                     SCORED       CLE              Hook Shot       2   \n",
       "2                     MISSED       CLE              Jump Shot       2   \n",
       "3                     MISSED       CLE         Tip Layup Shot       2   \n",
       "4                     MISSED       CLE           Running Dunk       2   \n",
       "...                      ...       ...                    ...     ...   \n",
       "13546                 SCORED       CLE              Hook Shot       2   \n",
       "13547                 MISSED       CLE              Jump Shot       2   \n",
       "13548                 SCORED       CLE              Jump Shot       3   \n",
       "13549                 MISSED       CLE              Jump Shot       3   \n",
       "13550                 MISSED       CLE  Driving Reverse Layup       2   \n",
       "\n",
       "      away team  location y   time        date        shoot player  \\\n",
       "0           NYK       246.0   0:20  2016-10-25        Derrick Rose   \n",
       "1           NYK       239.0   0:34  2016-10-25          Kevin Love   \n",
       "2           NYK       102.0   0:44  2016-10-25     Carmelo Anthony   \n",
       "3           NYK       226.0   0:45  2016-10-25  Kristaps Porzingis   \n",
       "4           NYK       250.0  10:05  2016-10-25   Richard Jefferson   \n",
       "...         ...         ...    ...         ...                 ...   \n",
       "13546       TOR       270.0   8:42  2017-04-12      Walter Tavares   \n",
       "13547       TOR        59.0   8:52  2017-04-12       Bruno Caboclo   \n",
       "13548       TOR        22.0   9:15  2017-04-12         James Jones   \n",
       "13549       TOR       221.0   9:33  2017-04-12      Lucas Nogueira   \n",
       "13550       TOR       262.0   9:42  2017-04-12         James Jones   \n",
       "\n",
       "       time from last shot  quarter current shot outcome My_Team HomeAway  \\\n",
       "0                      NaN        1               SCORED     OPP  CLE_NYK   \n",
       "1                      NaN        1               MISSED     CLE  CLE_NYK   \n",
       "2                     24.0        1               MISSED     OPP  CLE_NYK   \n",
       "3                      1.0        1               SCORED     OPP  CLE_NYK   \n",
       "4                     21.0        1               SCORED     CLE  CLE_NYK   \n",
       "...                    ...      ...                  ...     ...      ...   \n",
       "13546                 76.0        4               MISSED     CLE  CLE_TOR   \n",
       "13547                 25.0        4               SCORED     OPP  CLE_TOR   \n",
       "13548                 33.0        4               MISSED     CLE  CLE_TOR   \n",
       "13549                 41.0        4               MISSED     OPP  CLE_TOR   \n",
       "13550                 27.0        4               SCORED     CLE  CLE_TOR   \n",
       "\n",
       "       points_gained  difference  \n",
       "0                2.0         0.0  \n",
       "1                0.0        -2.0  \n",
       "2                0.0        -2.0  \n",
       "3                2.0        -2.0  \n",
       "4                2.0        -4.0  \n",
       "...              ...         ...  \n",
       "13546            0.0       -22.0  \n",
       "13547            2.0       -22.0  \n",
       "13548            0.0       -24.0  \n",
       "13549            0.0       -24.0  \n",
       "13550            2.0       -24.0  \n",
       "\n",
       "[13551 rows x 20 columns]"
      ]
     },
     "execution_count": 2,
     "metadata": {},
     "output_type": "execute_result"
    }
   ],
   "source": [
    "df = pd.read_csv('../input/machine/train.csv',index_col = 0)\n",
    "df"
   ]
  },
  {
   "cell_type": "markdown",
   "id": "112d71ff",
   "metadata": {
    "papermill": {
     "duration": 0.048789,
     "end_time": "2022-05-06T16:05:05.220498",
     "exception": false,
     "start_time": "2022-05-06T16:05:05.171709",
     "status": "completed"
    },
    "tags": []
   },
   "source": [
    "1) Sadece Lebron James'in şutlarını gösteren bir dataframe oluşturun."
   ]
  },
  {
   "cell_type": "code",
   "execution_count": 3,
   "id": "733a9c65",
   "metadata": {
    "execution": {
     "iopub.execute_input": "2022-05-06T16:05:05.321816Z",
     "iopub.status.busy": "2022-05-06T16:05:05.321194Z",
     "iopub.status.idle": "2022-05-06T16:05:05.354445Z",
     "shell.execute_reply": "2022-05-06T16:05:05.353631Z"
    },
    "papermill": {
     "duration": 0.086123,
     "end_time": "2022-05-06T16:05:05.356398",
     "exception": false,
     "start_time": "2022-05-06T16:05:05.270275",
     "status": "completed"
    },
    "tags": []
   },
   "outputs": [
    {
     "data": {
      "text/html": [
       "<div>\n",
       "<style scoped>\n",
       "    .dataframe tbody tr th:only-of-type {\n",
       "        vertical-align: middle;\n",
       "    }\n",
       "\n",
       "    .dataframe tbody tr th {\n",
       "        vertical-align: top;\n",
       "    }\n",
       "\n",
       "    .dataframe thead th {\n",
       "        text-align: right;\n",
       "    }\n",
       "</style>\n",
       "<table border=\"1\" class=\"dataframe\">\n",
       "  <thead>\n",
       "    <tr style=\"text-align: right;\">\n",
       "      <th></th>\n",
       "      <th>self previous shot</th>\n",
       "      <th>player position</th>\n",
       "      <th>home game</th>\n",
       "      <th>location x</th>\n",
       "      <th>opponent previous shot</th>\n",
       "      <th>home team</th>\n",
       "      <th>shot type</th>\n",
       "      <th>points</th>\n",
       "      <th>away team</th>\n",
       "      <th>location y</th>\n",
       "      <th>time</th>\n",
       "      <th>date</th>\n",
       "      <th>shoot player</th>\n",
       "      <th>time from last shot</th>\n",
       "      <th>quarter</th>\n",
       "      <th>current shot outcome</th>\n",
       "      <th>My_Team</th>\n",
       "      <th>HomeAway</th>\n",
       "      <th>points_gained</th>\n",
       "      <th>difference</th>\n",
       "    </tr>\n",
       "  </thead>\n",
       "  <tbody>\n",
       "    <tr>\n",
       "      <th>10</th>\n",
       "      <td>MISSED</td>\n",
       "      <td>SF</td>\n",
       "      <td>Yes</td>\n",
       "      <td>131.0</td>\n",
       "      <td>SCORED</td>\n",
       "      <td>CLE</td>\n",
       "      <td>Jump Shot</td>\n",
       "      <td>2</td>\n",
       "      <td>NYK</td>\n",
       "      <td>171.0</td>\n",
       "      <td>1:01</td>\n",
       "      <td>2016-10-25</td>\n",
       "      <td>LeBron James</td>\n",
       "      <td>27.0</td>\n",
       "      <td>1</td>\n",
       "      <td>SCORED</td>\n",
       "      <td>CLE</td>\n",
       "      <td>CLE_NYK</td>\n",
       "      <td>2.0</td>\n",
       "      <td>1.0</td>\n",
       "    </tr>\n",
       "    <tr>\n",
       "      <th>17</th>\n",
       "      <td>MISSED</td>\n",
       "      <td>SF</td>\n",
       "      <td>Yes</td>\n",
       "      <td>236.0</td>\n",
       "      <td>MISSED</td>\n",
       "      <td>CLE</td>\n",
       "      <td>Jump Shot</td>\n",
       "      <td>3</td>\n",
       "      <td>NYK</td>\n",
       "      <td>84.0</td>\n",
       "      <td>2:33</td>\n",
       "      <td>2016-10-25</td>\n",
       "      <td>LeBron James</td>\n",
       "      <td>6.0</td>\n",
       "      <td>1</td>\n",
       "      <td>MISSED</td>\n",
       "      <td>CLE</td>\n",
       "      <td>CLE_NYK</td>\n",
       "      <td>0.0</td>\n",
       "      <td>5.0</td>\n",
       "    </tr>\n",
       "    <tr>\n",
       "      <th>23</th>\n",
       "      <td>BLOCKED</td>\n",
       "      <td>SF</td>\n",
       "      <td>Yes</td>\n",
       "      <td>264.0</td>\n",
       "      <td>SCORED</td>\n",
       "      <td>CLE</td>\n",
       "      <td>Jump Shot</td>\n",
       "      <td>3</td>\n",
       "      <td>NYK</td>\n",
       "      <td>383.0</td>\n",
       "      <td>3:44</td>\n",
       "      <td>2016-10-25</td>\n",
       "      <td>LeBron James</td>\n",
       "      <td>42.0</td>\n",
       "      <td>1</td>\n",
       "      <td>MISSED</td>\n",
       "      <td>CLE</td>\n",
       "      <td>CLE_NYK</td>\n",
       "      <td>0.0</td>\n",
       "      <td>3.0</td>\n",
       "    </tr>\n",
       "    <tr>\n",
       "      <th>33</th>\n",
       "      <td>SCORED</td>\n",
       "      <td>SF</td>\n",
       "      <td>Yes</td>\n",
       "      <td>50.0</td>\n",
       "      <td>MISSED</td>\n",
       "      <td>CLE</td>\n",
       "      <td>Running Layup</td>\n",
       "      <td>2</td>\n",
       "      <td>NYK</td>\n",
       "      <td>259.0</td>\n",
       "      <td>6:04</td>\n",
       "      <td>2016-10-25</td>\n",
       "      <td>LeBron James</td>\n",
       "      <td>17.0</td>\n",
       "      <td>1</td>\n",
       "      <td>SCORED</td>\n",
       "      <td>CLE</td>\n",
       "      <td>CLE_NYK</td>\n",
       "      <td>2.0</td>\n",
       "      <td>7.0</td>\n",
       "    </tr>\n",
       "    <tr>\n",
       "      <th>44</th>\n",
       "      <td>MISSED</td>\n",
       "      <td>SF</td>\n",
       "      <td>Yes</td>\n",
       "      <td>52.0</td>\n",
       "      <td>SCORED</td>\n",
       "      <td>CLE</td>\n",
       "      <td>Putback Dunk</td>\n",
       "      <td>2</td>\n",
       "      <td>NYK</td>\n",
       "      <td>250.0</td>\n",
       "      <td>8:23</td>\n",
       "      <td>2016-10-25</td>\n",
       "      <td>LeBron James</td>\n",
       "      <td>4.0</td>\n",
       "      <td>1</td>\n",
       "      <td>SCORED</td>\n",
       "      <td>CLE</td>\n",
       "      <td>CLE_NYK</td>\n",
       "      <td>2.0</td>\n",
       "      <td>7.0</td>\n",
       "    </tr>\n",
       "    <tr>\n",
       "      <th>...</th>\n",
       "      <td>...</td>\n",
       "      <td>...</td>\n",
       "      <td>...</td>\n",
       "      <td>...</td>\n",
       "      <td>...</td>\n",
       "      <td>...</td>\n",
       "      <td>...</td>\n",
       "      <td>...</td>\n",
       "      <td>...</td>\n",
       "      <td>...</td>\n",
       "      <td>...</td>\n",
       "      <td>...</td>\n",
       "      <td>...</td>\n",
       "      <td>...</td>\n",
       "      <td>...</td>\n",
       "      <td>...</td>\n",
       "      <td>...</td>\n",
       "      <td>...</td>\n",
       "      <td>...</td>\n",
       "      <td>...</td>\n",
       "    </tr>\n",
       "    <tr>\n",
       "      <th>13159</th>\n",
       "      <td>MISSED</td>\n",
       "      <td>SF</td>\n",
       "      <td>No</td>\n",
       "      <td>51.0</td>\n",
       "      <td>SCORED</td>\n",
       "      <td>ATL</td>\n",
       "      <td>Driving Layup</td>\n",
       "      <td>2</td>\n",
       "      <td>CLE</td>\n",
       "      <td>246.0</td>\n",
       "      <td>1:16</td>\n",
       "      <td>2017-04-09</td>\n",
       "      <td>LeBron James</td>\n",
       "      <td>47.0</td>\n",
       "      <td>4</td>\n",
       "      <td>MISSED</td>\n",
       "      <td>CLE</td>\n",
       "      <td>ATL_CLE</td>\n",
       "      <td>0.0</td>\n",
       "      <td>17.0</td>\n",
       "    </tr>\n",
       "    <tr>\n",
       "      <th>13167</th>\n",
       "      <td>SCORED</td>\n",
       "      <td>SF</td>\n",
       "      <td>No</td>\n",
       "      <td>58.0</td>\n",
       "      <td>SCORED</td>\n",
       "      <td>ATL</td>\n",
       "      <td>Driving Layup</td>\n",
       "      <td>2</td>\n",
       "      <td>CLE</td>\n",
       "      <td>249.0</td>\n",
       "      <td>3:36</td>\n",
       "      <td>2017-04-09</td>\n",
       "      <td>LeBron James</td>\n",
       "      <td>58.0</td>\n",
       "      <td>4</td>\n",
       "      <td>SCORED</td>\n",
       "      <td>CLE</td>\n",
       "      <td>ATL_CLE</td>\n",
       "      <td>2.0</td>\n",
       "      <td>15.0</td>\n",
       "    </tr>\n",
       "    <tr>\n",
       "      <th>13174</th>\n",
       "      <td>SCORED</td>\n",
       "      <td>SF</td>\n",
       "      <td>No</td>\n",
       "      <td>52.0</td>\n",
       "      <td>MISSED</td>\n",
       "      <td>ATL</td>\n",
       "      <td>Driving Dunk</td>\n",
       "      <td>2</td>\n",
       "      <td>CLE</td>\n",
       "      <td>250.0</td>\n",
       "      <td>5:54</td>\n",
       "      <td>2017-04-09</td>\n",
       "      <td>LeBron James</td>\n",
       "      <td>29.0</td>\n",
       "      <td>4</td>\n",
       "      <td>SCORED</td>\n",
       "      <td>CLE</td>\n",
       "      <td>ATL_CLE</td>\n",
       "      <td>2.0</td>\n",
       "      <td>14.0</td>\n",
       "    </tr>\n",
       "    <tr>\n",
       "      <th>13182</th>\n",
       "      <td>SCORED</td>\n",
       "      <td>SF</td>\n",
       "      <td>No</td>\n",
       "      <td>77.0</td>\n",
       "      <td>SCORED</td>\n",
       "      <td>ATL</td>\n",
       "      <td>Fadeaway Jumper</td>\n",
       "      <td>2</td>\n",
       "      <td>CLE</td>\n",
       "      <td>450.0</td>\n",
       "      <td>8:54</td>\n",
       "      <td>2017-04-09</td>\n",
       "      <td>LeBron James</td>\n",
       "      <td>31.0</td>\n",
       "      <td>4</td>\n",
       "      <td>MISSED</td>\n",
       "      <td>CLE</td>\n",
       "      <td>ATL_CLE</td>\n",
       "      <td>0.0</td>\n",
       "      <td>14.0</td>\n",
       "    </tr>\n",
       "    <tr>\n",
       "      <th>13192</th>\n",
       "      <td>MISSED</td>\n",
       "      <td>SF</td>\n",
       "      <td>No</td>\n",
       "      <td>141.0</td>\n",
       "      <td>MISSED</td>\n",
       "      <td>ATL</td>\n",
       "      <td>Floating Jump Shot</td>\n",
       "      <td>2</td>\n",
       "      <td>CLE</td>\n",
       "      <td>290.0</td>\n",
       "      <td>2:08</td>\n",
       "      <td>2017-04-09</td>\n",
       "      <td>LeBron James</td>\n",
       "      <td>76.0</td>\n",
       "      <td>5</td>\n",
       "      <td>MISSED</td>\n",
       "      <td>CLE</td>\n",
       "      <td>ATL_CLE</td>\n",
       "      <td>0.0</td>\n",
       "      <td>14.0</td>\n",
       "    </tr>\n",
       "  </tbody>\n",
       "</table>\n",
       "<p>1296 rows × 20 columns</p>\n",
       "</div>"
      ],
      "text/plain": [
       "      self previous shot player position home game  location x  \\\n",
       "10                MISSED              SF       Yes       131.0   \n",
       "17                MISSED              SF       Yes       236.0   \n",
       "23               BLOCKED              SF       Yes       264.0   \n",
       "33                SCORED              SF       Yes        50.0   \n",
       "44                MISSED              SF       Yes        52.0   \n",
       "...                  ...             ...       ...         ...   \n",
       "13159             MISSED              SF        No        51.0   \n",
       "13167             SCORED              SF        No        58.0   \n",
       "13174             SCORED              SF        No        52.0   \n",
       "13182             SCORED              SF        No        77.0   \n",
       "13192             MISSED              SF        No       141.0   \n",
       "\n",
       "      opponent previous shot home team           shot type  points away team  \\\n",
       "10                    SCORED       CLE           Jump Shot       2       NYK   \n",
       "17                    MISSED       CLE           Jump Shot       3       NYK   \n",
       "23                    SCORED       CLE           Jump Shot       3       NYK   \n",
       "33                    MISSED       CLE       Running Layup       2       NYK   \n",
       "44                    SCORED       CLE        Putback Dunk       2       NYK   \n",
       "...                      ...       ...                 ...     ...       ...   \n",
       "13159                 SCORED       ATL       Driving Layup       2       CLE   \n",
       "13167                 SCORED       ATL       Driving Layup       2       CLE   \n",
       "13174                 MISSED       ATL        Driving Dunk       2       CLE   \n",
       "13182                 SCORED       ATL     Fadeaway Jumper       2       CLE   \n",
       "13192                 MISSED       ATL  Floating Jump Shot       2       CLE   \n",
       "\n",
       "       location y  time        date  shoot player  time from last shot  \\\n",
       "10          171.0  1:01  2016-10-25  LeBron James                 27.0   \n",
       "17           84.0  2:33  2016-10-25  LeBron James                  6.0   \n",
       "23          383.0  3:44  2016-10-25  LeBron James                 42.0   \n",
       "33          259.0  6:04  2016-10-25  LeBron James                 17.0   \n",
       "44          250.0  8:23  2016-10-25  LeBron James                  4.0   \n",
       "...           ...   ...         ...           ...                  ...   \n",
       "13159       246.0  1:16  2017-04-09  LeBron James                 47.0   \n",
       "13167       249.0  3:36  2017-04-09  LeBron James                 58.0   \n",
       "13174       250.0  5:54  2017-04-09  LeBron James                 29.0   \n",
       "13182       450.0  8:54  2017-04-09  LeBron James                 31.0   \n",
       "13192       290.0  2:08  2017-04-09  LeBron James                 76.0   \n",
       "\n",
       "       quarter current shot outcome My_Team HomeAway  points_gained  \\\n",
       "10           1               SCORED     CLE  CLE_NYK            2.0   \n",
       "17           1               MISSED     CLE  CLE_NYK            0.0   \n",
       "23           1               MISSED     CLE  CLE_NYK            0.0   \n",
       "33           1               SCORED     CLE  CLE_NYK            2.0   \n",
       "44           1               SCORED     CLE  CLE_NYK            2.0   \n",
       "...        ...                  ...     ...      ...            ...   \n",
       "13159        4               MISSED     CLE  ATL_CLE            0.0   \n",
       "13167        4               SCORED     CLE  ATL_CLE            2.0   \n",
       "13174        4               SCORED     CLE  ATL_CLE            2.0   \n",
       "13182        4               MISSED     CLE  ATL_CLE            0.0   \n",
       "13192        5               MISSED     CLE  ATL_CLE            0.0   \n",
       "\n",
       "       difference  \n",
       "10            1.0  \n",
       "17            5.0  \n",
       "23            3.0  \n",
       "33            7.0  \n",
       "44            7.0  \n",
       "...           ...  \n",
       "13159        17.0  \n",
       "13167        15.0  \n",
       "13174        14.0  \n",
       "13182        14.0  \n",
       "13192        14.0  \n",
       "\n",
       "[1296 rows x 20 columns]"
      ]
     },
     "execution_count": 3,
     "metadata": {},
     "output_type": "execute_result"
    }
   ],
   "source": [
    "#1\n",
    "df_lebron = df.loc[df['shoot player'] == \"LeBron James\"]\n",
    "df_lebron"
   ]
  },
  {
   "cell_type": "markdown",
   "id": "8ffba6c4",
   "metadata": {
    "papermill": {
     "duration": 0.049982,
     "end_time": "2022-05-06T16:05:05.456227",
     "exception": false,
     "start_time": "2022-05-06T16:05:05.406245",
     "status": "completed"
    },
    "tags": []
   },
   "source": [
    "2) Verilerimizin içerisinde her sütün için kaç tane dolu veri var, percentile'ları kaç, ortalama değerleri kaç gibi değişkenleri gösteren kodu yazınız. Bütün kolonların isimlerini yazdırın."
   ]
  },
  {
   "cell_type": "code",
   "execution_count": 4,
   "id": "0f80f3b4",
   "metadata": {
    "execution": {
     "iopub.execute_input": "2022-05-06T16:05:05.559285Z",
     "iopub.status.busy": "2022-05-06T16:05:05.558423Z",
     "iopub.status.idle": "2022-05-06T16:05:05.589591Z",
     "shell.execute_reply": "2022-05-06T16:05:05.588925Z"
    },
    "papermill": {
     "duration": 0.085519,
     "end_time": "2022-05-06T16:05:05.592481",
     "exception": false,
     "start_time": "2022-05-06T16:05:05.506962",
     "status": "completed"
    },
    "tags": []
   },
   "outputs": [
    {
     "name": "stdout",
     "output_type": "stream",
     "text": [
      "         location x        points    location y  time from last shot  \\\n",
      "count  13541.000000  13551.000000  13541.000000         12911.000000   \n",
      "mean     466.775275      2.362851    246.795436            32.890636   \n",
      "std      348.506178      0.480840    121.989018            19.269357   \n",
      "min        5.000000      2.000000      0.000000             0.000000   \n",
      "25%       92.000000      2.000000    172.000000            22.000000   \n",
      "50%      313.000000      2.000000    250.000000            31.000000   \n",
      "75%      848.000000      3.000000    316.000000            40.000000   \n",
      "max      933.000000      3.000000    500.000000           196.000000   \n",
      "\n",
      "            quarter  points_gained    difference  \n",
      "count  13551.000000   13551.000000  13551.000000  \n",
      "mean       2.478489       1.065604      1.471847  \n",
      "std        1.148060       1.183611     11.403835  \n",
      "min        1.000000       0.000000    -45.000000  \n",
      "25%        1.000000       0.000000     -5.000000  \n",
      "50%        2.000000       0.000000      1.000000  \n",
      "75%        3.000000       2.000000      8.000000  \n",
      "max        6.000000       3.000000     34.000000  \n",
      "bütün sutünların isimleri: Index(['self previous shot', 'player position', 'home game', 'location x',\n",
      "       'opponent previous shot', 'home team', 'shot type', 'points',\n",
      "       'away team', 'location y', 'time', 'date', 'shoot player',\n",
      "       'time from last shot', 'quarter', 'current shot outcome', 'My_Team',\n",
      "       'HomeAway', 'points_gained', 'difference'],\n",
      "      dtype='object')\n"
     ]
    }
   ],
   "source": [
    "#2\n",
    "print(df.describe())\n",
    "print(\"bütün sutünların isimleri:\",df.columns)"
   ]
  },
  {
   "cell_type": "markdown",
   "id": "7cba7b57",
   "metadata": {
    "papermill": {
     "duration": 0.049813,
     "end_time": "2022-05-06T16:05:05.693565",
     "exception": false,
     "start_time": "2022-05-06T16:05:05.643752",
     "status": "completed"
    },
    "tags": []
   },
   "source": [
    "3) Sonrasında açılan notebook'tan verileri okutun. İlk 5 entry'sini yazdırın. Gözünüze çarpan şeyleri comment olarak ekleyin."
   ]
  },
  {
   "cell_type": "code",
   "execution_count": 5,
   "id": "353801fc",
   "metadata": {
    "execution": {
     "iopub.execute_input": "2022-05-06T16:05:05.798328Z",
     "iopub.status.busy": "2022-05-06T16:05:05.797259Z",
     "iopub.status.idle": "2022-05-06T16:05:05.818463Z",
     "shell.execute_reply": "2022-05-06T16:05:05.817658Z"
    },
    "papermill": {
     "duration": 0.075654,
     "end_time": "2022-05-06T16:05:05.820596",
     "exception": false,
     "start_time": "2022-05-06T16:05:05.744942",
     "status": "completed"
    },
    "tags": []
   },
   "outputs": [
    {
     "data": {
      "text/html": [
       "<div>\n",
       "<style scoped>\n",
       "    .dataframe tbody tr th:only-of-type {\n",
       "        vertical-align: middle;\n",
       "    }\n",
       "\n",
       "    .dataframe tbody tr th {\n",
       "        vertical-align: top;\n",
       "    }\n",
       "\n",
       "    .dataframe thead th {\n",
       "        text-align: right;\n",
       "    }\n",
       "</style>\n",
       "<table border=\"1\" class=\"dataframe\">\n",
       "  <thead>\n",
       "    <tr style=\"text-align: right;\">\n",
       "      <th></th>\n",
       "      <th>self previous shot</th>\n",
       "      <th>player position</th>\n",
       "      <th>home game</th>\n",
       "      <th>location x</th>\n",
       "      <th>opponent previous shot</th>\n",
       "      <th>home team</th>\n",
       "      <th>shot type</th>\n",
       "      <th>points</th>\n",
       "      <th>away team</th>\n",
       "      <th>location y</th>\n",
       "      <th>time</th>\n",
       "      <th>date</th>\n",
       "      <th>shoot player</th>\n",
       "      <th>time from last shot</th>\n",
       "      <th>quarter</th>\n",
       "      <th>current shot outcome</th>\n",
       "      <th>My_Team</th>\n",
       "      <th>HomeAway</th>\n",
       "      <th>points_gained</th>\n",
       "      <th>difference</th>\n",
       "    </tr>\n",
       "  </thead>\n",
       "  <tbody>\n",
       "    <tr>\n",
       "      <th>0</th>\n",
       "      <td>NaN</td>\n",
       "      <td>PG</td>\n",
       "      <td>No</td>\n",
       "      <td>881.0</td>\n",
       "      <td>NaN</td>\n",
       "      <td>CLE</td>\n",
       "      <td>Driving Layup</td>\n",
       "      <td>2</td>\n",
       "      <td>NYK</td>\n",
       "      <td>246.0</td>\n",
       "      <td>0:20</td>\n",
       "      <td>2016-10-25</td>\n",
       "      <td>Derrick Rose</td>\n",
       "      <td>NaN</td>\n",
       "      <td>1</td>\n",
       "      <td>SCORED</td>\n",
       "      <td>OPP</td>\n",
       "      <td>CLE_NYK</td>\n",
       "      <td>2.0</td>\n",
       "      <td>0.0</td>\n",
       "    </tr>\n",
       "    <tr>\n",
       "      <th>1</th>\n",
       "      <td>NaN</td>\n",
       "      <td>PF</td>\n",
       "      <td>Yes</td>\n",
       "      <td>87.0</td>\n",
       "      <td>SCORED</td>\n",
       "      <td>CLE</td>\n",
       "      <td>Hook Shot</td>\n",
       "      <td>2</td>\n",
       "      <td>NYK</td>\n",
       "      <td>239.0</td>\n",
       "      <td>0:34</td>\n",
       "      <td>2016-10-25</td>\n",
       "      <td>Kevin Love</td>\n",
       "      <td>NaN</td>\n",
       "      <td>1</td>\n",
       "      <td>MISSED</td>\n",
       "      <td>CLE</td>\n",
       "      <td>CLE_NYK</td>\n",
       "      <td>0.0</td>\n",
       "      <td>-2.0</td>\n",
       "    </tr>\n",
       "    <tr>\n",
       "      <th>2</th>\n",
       "      <td>SCORED</td>\n",
       "      <td>SF</td>\n",
       "      <td>No</td>\n",
       "      <td>760.0</td>\n",
       "      <td>MISSED</td>\n",
       "      <td>CLE</td>\n",
       "      <td>Jump Shot</td>\n",
       "      <td>2</td>\n",
       "      <td>NYK</td>\n",
       "      <td>102.0</td>\n",
       "      <td>0:44</td>\n",
       "      <td>2016-10-25</td>\n",
       "      <td>Carmelo Anthony</td>\n",
       "      <td>24.0</td>\n",
       "      <td>1</td>\n",
       "      <td>MISSED</td>\n",
       "      <td>OPP</td>\n",
       "      <td>CLE_NYK</td>\n",
       "      <td>0.0</td>\n",
       "      <td>-2.0</td>\n",
       "    </tr>\n",
       "    <tr>\n",
       "      <th>3</th>\n",
       "      <td>MISSED</td>\n",
       "      <td>PF</td>\n",
       "      <td>No</td>\n",
       "      <td>890.0</td>\n",
       "      <td>MISSED</td>\n",
       "      <td>CLE</td>\n",
       "      <td>Tip Layup Shot</td>\n",
       "      <td>2</td>\n",
       "      <td>NYK</td>\n",
       "      <td>226.0</td>\n",
       "      <td>0:45</td>\n",
       "      <td>2016-10-25</td>\n",
       "      <td>Kristaps Porzingis</td>\n",
       "      <td>1.0</td>\n",
       "      <td>1</td>\n",
       "      <td>SCORED</td>\n",
       "      <td>OPP</td>\n",
       "      <td>CLE_NYK</td>\n",
       "      <td>2.0</td>\n",
       "      <td>-2.0</td>\n",
       "    </tr>\n",
       "    <tr>\n",
       "      <th>4</th>\n",
       "      <td>SCORED</td>\n",
       "      <td>SF</td>\n",
       "      <td>Yes</td>\n",
       "      <td>52.0</td>\n",
       "      <td>MISSED</td>\n",
       "      <td>CLE</td>\n",
       "      <td>Running Dunk</td>\n",
       "      <td>2</td>\n",
       "      <td>NYK</td>\n",
       "      <td>250.0</td>\n",
       "      <td>10:05</td>\n",
       "      <td>2016-10-25</td>\n",
       "      <td>Richard Jefferson</td>\n",
       "      <td>21.0</td>\n",
       "      <td>1</td>\n",
       "      <td>SCORED</td>\n",
       "      <td>CLE</td>\n",
       "      <td>CLE_NYK</td>\n",
       "      <td>2.0</td>\n",
       "      <td>-4.0</td>\n",
       "    </tr>\n",
       "  </tbody>\n",
       "</table>\n",
       "</div>"
      ],
      "text/plain": [
       "  self previous shot player position home game  location x  \\\n",
       "0                NaN              PG        No       881.0   \n",
       "1                NaN              PF       Yes        87.0   \n",
       "2             SCORED              SF        No       760.0   \n",
       "3             MISSED              PF        No       890.0   \n",
       "4             SCORED              SF       Yes        52.0   \n",
       "\n",
       "  opponent previous shot home team       shot type  points away team  \\\n",
       "0                    NaN       CLE   Driving Layup       2       NYK   \n",
       "1                 SCORED       CLE       Hook Shot       2       NYK   \n",
       "2                 MISSED       CLE       Jump Shot       2       NYK   \n",
       "3                 MISSED       CLE  Tip Layup Shot       2       NYK   \n",
       "4                 MISSED       CLE    Running Dunk       2       NYK   \n",
       "\n",
       "   location y   time        date        shoot player  time from last shot  \\\n",
       "0       246.0   0:20  2016-10-25        Derrick Rose                  NaN   \n",
       "1       239.0   0:34  2016-10-25          Kevin Love                  NaN   \n",
       "2       102.0   0:44  2016-10-25     Carmelo Anthony                 24.0   \n",
       "3       226.0   0:45  2016-10-25  Kristaps Porzingis                  1.0   \n",
       "4       250.0  10:05  2016-10-25   Richard Jefferson                 21.0   \n",
       "\n",
       "   quarter current shot outcome My_Team HomeAway  points_gained  difference  \n",
       "0        1               SCORED     OPP  CLE_NYK            2.0         0.0  \n",
       "1        1               MISSED     CLE  CLE_NYK            0.0        -2.0  \n",
       "2        1               MISSED     OPP  CLE_NYK            0.0        -2.0  \n",
       "3        1               SCORED     OPP  CLE_NYK            2.0        -2.0  \n",
       "4        1               SCORED     CLE  CLE_NYK            2.0        -4.0  "
      ]
     },
     "execution_count": 5,
     "metadata": {},
     "output_type": "execute_result"
    }
   ],
   "source": [
    "#3\n",
    "df.head()\n"
   ]
  },
  {
   "cell_type": "markdown",
   "id": "5e071a5b",
   "metadata": {
    "papermill": {
     "duration": 0.049866,
     "end_time": "2022-05-06T16:05:05.920561",
     "exception": false,
     "start_time": "2022-05-06T16:05:05.870695",
     "status": "completed"
    },
    "tags": []
   },
   "source": [
    "4) Kaç sütun ve kaç satır içerdiğini yazdırın."
   ]
  },
  {
   "cell_type": "code",
   "execution_count": 6,
   "id": "d8c7540a",
   "metadata": {
    "execution": {
     "iopub.execute_input": "2022-05-06T16:05:06.026672Z",
     "iopub.status.busy": "2022-05-06T16:05:06.026140Z",
     "iopub.status.idle": "2022-05-06T16:05:06.031455Z",
     "shell.execute_reply": "2022-05-06T16:05:06.030579Z"
    },
    "papermill": {
     "duration": 0.062425,
     "end_time": "2022-05-06T16:05:06.033984",
     "exception": false,
     "start_time": "2022-05-06T16:05:05.971559",
     "status": "completed"
    },
    "tags": []
   },
   "outputs": [
    {
     "name": "stdout",
     "output_type": "stream",
     "text": [
      "satır ve sütun sayıları: (13551, 20)\n"
     ]
    }
   ],
   "source": [
    "#4\n",
    "print(\"satır ve sütun sayıları:\",df.shape)"
   ]
  },
  {
   "cell_type": "markdown",
   "id": "29799a83",
   "metadata": {
    "papermill": {
     "duration": 0.052236,
     "end_time": "2022-05-06T16:05:06.139055",
     "exception": false,
     "start_time": "2022-05-06T16:05:06.086819",
     "status": "completed"
    },
    "tags": []
   },
   "source": [
    "5) Değişken tiplerimiz neler? (Float,int,str) gibi, bunları yazdırın."
   ]
  },
  {
   "cell_type": "code",
   "execution_count": 7,
   "id": "79159fa6",
   "metadata": {
    "execution": {
     "iopub.execute_input": "2022-05-06T16:05:06.243638Z",
     "iopub.status.busy": "2022-05-06T16:05:06.243105Z",
     "iopub.status.idle": "2022-05-06T16:05:06.251511Z",
     "shell.execute_reply": "2022-05-06T16:05:06.250450Z"
    },
    "papermill": {
     "duration": 0.062895,
     "end_time": "2022-05-06T16:05:06.253911",
     "exception": false,
     "start_time": "2022-05-06T16:05:06.191016",
     "status": "completed"
    },
    "tags": []
   },
   "outputs": [
    {
     "name": "stdout",
     "output_type": "stream",
     "text": [
      "değişken tipleri:\n"
     ]
    },
    {
     "data": {
      "text/plain": [
       "self previous shot         object\n",
       "player position            object\n",
       "home game                  object\n",
       "location x                float64\n",
       "opponent previous shot     object\n",
       "home team                  object\n",
       "shot type                  object\n",
       "points                      int64\n",
       "away team                  object\n",
       "location y                float64\n",
       "time                       object\n",
       "date                       object\n",
       "shoot player               object\n",
       "time from last shot       float64\n",
       "quarter                     int64\n",
       "current shot outcome       object\n",
       "My_Team                    object\n",
       "HomeAway                   object\n",
       "points_gained             float64\n",
       "difference                float64\n",
       "dtype: object"
      ]
     },
     "execution_count": 7,
     "metadata": {},
     "output_type": "execute_result"
    }
   ],
   "source": [
    "#5\n",
    "print(\"değişken tipleri:\")\n",
    "df.dtypes"
   ]
  },
  {
   "cell_type": "markdown",
   "id": "75e0c99f",
   "metadata": {
    "papermill": {
     "duration": 0.050638,
     "end_time": "2022-05-06T16:05:06.357041",
     "exception": false,
     "start_time": "2022-05-06T16:05:06.306403",
     "status": "completed"
    },
    "tags": []
   },
   "source": [
    "6) Cleveland takımında en yüksek yüzdeyle şut atan oyuncu kimdir? Bunu bulurken, bütün şutları değerlendirin, serbest atış, 2 sayılık atış ve 3 sayılık atış olması önemli değil. Bu değer kaçtır?"
   ]
  },
  {
   "cell_type": "code",
   "execution_count": 8,
   "id": "7959f34b",
   "metadata": {
    "execution": {
     "iopub.execute_input": "2022-05-06T16:05:06.461293Z",
     "iopub.status.busy": "2022-05-06T16:05:06.461030Z",
     "iopub.status.idle": "2022-05-06T16:05:06.480850Z",
     "shell.execute_reply": "2022-05-06T16:05:06.479980Z"
    },
    "papermill": {
     "duration": 0.074001,
     "end_time": "2022-05-06T16:05:06.482627",
     "exception": false,
     "start_time": "2022-05-06T16:05:06.408626",
     "status": "completed"
    },
    "tags": []
   },
   "outputs": [
    {
     "name": "stdout",
     "output_type": "stream",
     "text": [
      "en yüksek yüzde ile şut atan oyuncu ve yüzdesi: Walter Tavares % 75.0\n"
     ]
    }
   ],
   "source": [
    "#6\n",
    "df2 = df.loc[df['My_Team'] == \"CLE\"]\n",
    "df_scr = df2.loc[df['current shot outcome'] == \"SCORED\"]\n",
    "\n",
    "list1 = df_scr.groupby('shoot player').points_gained.count().tolist()\n",
    "list2 = df2.groupby('shoot player').points_gained.count().tolist()\n",
    "list3 = df2.groupby('shoot player').points_gained.count().index.tolist()\n",
    "list4=[]\n",
    "for i in range(len(list1)):\n",
    "    list4.append((list1[i]/list2[i])*100)\n",
    "list4.index(max(list4))\n",
    "print(\"en yüksek yüzde ile şut atan oyuncu ve yüzdesi:\",list3[list4.index(max(list4))],\"%\",max(list4))"
   ]
  },
  {
   "cell_type": "markdown",
   "id": "7a408b71",
   "metadata": {
    "papermill": {
     "duration": 0.050791,
     "end_time": "2022-05-06T16:05:06.584725",
     "exception": false,
     "start_time": "2022-05-06T16:05:06.533934",
     "status": "completed"
    },
    "tags": []
   },
   "source": [
    "7) Cleveland takımındaki her oyuncunun attığı toplam şut sayısını bulunuz."
   ]
  },
  {
   "cell_type": "code",
   "execution_count": 9,
   "id": "484195f2",
   "metadata": {
    "execution": {
     "iopub.execute_input": "2022-05-06T16:05:06.689923Z",
     "iopub.status.busy": "2022-05-06T16:05:06.688898Z",
     "iopub.status.idle": "2022-05-06T16:05:06.697200Z",
     "shell.execute_reply": "2022-05-06T16:05:06.695740Z"
    },
    "papermill": {
     "duration": 0.062657,
     "end_time": "2022-05-06T16:05:06.699149",
     "exception": false,
     "start_time": "2022-05-06T16:05:06.636492",
     "status": "completed"
    },
    "tags": []
   },
   "outputs": [
    {
     "name": "stdout",
     "output_type": "stream",
     "text": [
      "shoot player\n",
      "Channing Frye         500\n",
      "Chris Andersen         17\n",
      "DeAndre Liggins       130\n",
      "Deron Williams        140\n",
      "Derrick Williams       95\n",
      "Iman Shumpert         453\n",
      "J.R. Smith            335\n",
      "James Jones            95\n",
      "Jordan McRae          141\n",
      "Kay Felder            150\n",
      "Kevin Love            843\n",
      "Kyle Korver           269\n",
      "Kyrie Irving         1349\n",
      "Larry Sanders           3\n",
      "LeBron James         1296\n",
      "Mike Dunleavy          83\n",
      "Richard Jefferson     321\n",
      "Tristan Thompson      416\n",
      "Walter Tavares          4\n",
      "Name: current shot outcome, dtype: int64\n"
     ]
    }
   ],
   "source": [
    "#7\n",
    "df3 = df2.groupby('shoot player')['current shot outcome'].count()\n",
    "print(df3)"
   ]
  },
  {
   "cell_type": "markdown",
   "id": "890def40",
   "metadata": {
    "papermill": {
     "duration": 0.05269,
     "end_time": "2022-05-06T16:05:06.803469",
     "exception": false,
     "start_time": "2022-05-06T16:05:06.750779",
     "status": "completed"
    },
    "tags": []
   },
   "source": [
    "8) Lebron James'in attığı şutların içerisinde maksimum x değerine sahip entry'nin indexini bulunuz."
   ]
  },
  {
   "cell_type": "code",
   "execution_count": 10,
   "id": "77244f21",
   "metadata": {
    "execution": {
     "iopub.execute_input": "2022-05-06T16:05:06.909530Z",
     "iopub.status.busy": "2022-05-06T16:05:06.908825Z",
     "iopub.status.idle": "2022-05-06T16:05:06.914976Z",
     "shell.execute_reply": "2022-05-06T16:05:06.914020Z"
    },
    "papermill": {
     "duration": 0.061049,
     "end_time": "2022-05-06T16:05:06.916945",
     "exception": false,
     "start_time": "2022-05-06T16:05:06.855896",
     "status": "completed"
    },
    "tags": []
   },
   "outputs": [
    {
     "name": "stdout",
     "output_type": "stream",
     "text": [
      "Lebron James'in attığı şutların içerisinde maksimum x değeri: 910.0\n",
      "Lebron James'in attığı şutların içerisinde maksimum x değerine sahip entry'nin indexi: 12407\n"
     ]
    }
   ],
   "source": [
    "#8\n",
    "print(\"Lebron James'in attığı şutların içerisinde maksimum x değeri:\"\n",
    "      ,df_lebron['location x'].max())\n",
    "print(\"Lebron James'in attığı şutların içerisinde maksimum x değerine sahip entry'nin indexi:\"\n",
    "      ,df_lebron['location x'].idxmax())"
   ]
  },
  {
   "cell_type": "markdown",
   "id": "49498796",
   "metadata": {
    "papermill": {
     "duration": 0.051948,
     "end_time": "2022-05-06T16:05:07.022060",
     "exception": false,
     "start_time": "2022-05-06T16:05:06.970112",
     "status": "completed"
    },
    "tags": []
   },
   "source": [
    "9) Bir fonksiyon tanımlayın. Buradaki amaç location y, ve location x verilerini fonksiyona verdiğinizde, şutun atıldığı noktanın potaya kuşbakışı uzaklığını(feet) buldurmaktır. Bu uzaklıkları 0-10,10-20,20-30, 30+ olacak şekilde, yakın, orta, uzak ve orta sahadan gibi isimlerle sınıflandırın. Bu sınıflandırmayı verinize yeni bir sütun(feature) olarak ekleyin."
   ]
  },
  {
   "cell_type": "code",
   "execution_count": 11,
   "id": "3d919540",
   "metadata": {
    "execution": {
     "iopub.execute_input": "2022-05-06T16:05:07.130998Z",
     "iopub.status.busy": "2022-05-06T16:05:07.130430Z",
     "iopub.status.idle": "2022-05-06T16:05:08.574944Z",
     "shell.execute_reply": "2022-05-06T16:05:08.574128Z"
    },
    "papermill": {
     "duration": 1.501904,
     "end_time": "2022-05-06T16:05:08.576945",
     "exception": false,
     "start_time": "2022-05-06T16:05:07.075041",
     "status": "completed"
    },
    "tags": []
   },
   "outputs": [
    {
     "data": {
      "text/html": [
       "<div>\n",
       "<style scoped>\n",
       "    .dataframe tbody tr th:only-of-type {\n",
       "        vertical-align: middle;\n",
       "    }\n",
       "\n",
       "    .dataframe tbody tr th {\n",
       "        vertical-align: top;\n",
       "    }\n",
       "\n",
       "    .dataframe thead th {\n",
       "        text-align: right;\n",
       "    }\n",
       "</style>\n",
       "<table border=\"1\" class=\"dataframe\">\n",
       "  <thead>\n",
       "    <tr style=\"text-align: right;\">\n",
       "      <th></th>\n",
       "      <th>self previous shot</th>\n",
       "      <th>player position</th>\n",
       "      <th>home game</th>\n",
       "      <th>location x</th>\n",
       "      <th>opponent previous shot</th>\n",
       "      <th>home team</th>\n",
       "      <th>shot type</th>\n",
       "      <th>points</th>\n",
       "      <th>away team</th>\n",
       "      <th>location y</th>\n",
       "      <th>...</th>\n",
       "      <th>shoot player</th>\n",
       "      <th>time from last shot</th>\n",
       "      <th>quarter</th>\n",
       "      <th>current shot outcome</th>\n",
       "      <th>My_Team</th>\n",
       "      <th>HomeAway</th>\n",
       "      <th>points_gained</th>\n",
       "      <th>difference</th>\n",
       "      <th>uzaklık</th>\n",
       "      <th>uzaklık_durumu</th>\n",
       "    </tr>\n",
       "  </thead>\n",
       "  <tbody>\n",
       "    <tr>\n",
       "      <th>0</th>\n",
       "      <td>NaN</td>\n",
       "      <td>PG</td>\n",
       "      <td>No</td>\n",
       "      <td>881.0</td>\n",
       "      <td>NaN</td>\n",
       "      <td>CLE</td>\n",
       "      <td>Driving Layup</td>\n",
       "      <td>2</td>\n",
       "      <td>NYK</td>\n",
       "      <td>246.0</td>\n",
       "      <td>...</td>\n",
       "      <td>Derrick Rose</td>\n",
       "      <td>NaN</td>\n",
       "      <td>1</td>\n",
       "      <td>SCORED</td>\n",
       "      <td>OPP</td>\n",
       "      <td>CLE_NYK</td>\n",
       "      <td>2.0</td>\n",
       "      <td>0.0</td>\n",
       "      <td>0.763217</td>\n",
       "      <td>yakın</td>\n",
       "    </tr>\n",
       "    <tr>\n",
       "      <th>1</th>\n",
       "      <td>NaN</td>\n",
       "      <td>PF</td>\n",
       "      <td>Yes</td>\n",
       "      <td>87.0</td>\n",
       "      <td>SCORED</td>\n",
       "      <td>CLE</td>\n",
       "      <td>Hook Shot</td>\n",
       "      <td>2</td>\n",
       "      <td>NYK</td>\n",
       "      <td>239.0</td>\n",
       "      <td>...</td>\n",
       "      <td>Kevin Love</td>\n",
       "      <td>NaN</td>\n",
       "      <td>1</td>\n",
       "      <td>MISSED</td>\n",
       "      <td>CLE</td>\n",
       "      <td>CLE_NYK</td>\n",
       "      <td>0.0</td>\n",
       "      <td>-2.0</td>\n",
       "      <td>3.621119</td>\n",
       "      <td>yakın</td>\n",
       "    </tr>\n",
       "    <tr>\n",
       "      <th>2</th>\n",
       "      <td>SCORED</td>\n",
       "      <td>SF</td>\n",
       "      <td>No</td>\n",
       "      <td>760.0</td>\n",
       "      <td>MISSED</td>\n",
       "      <td>CLE</td>\n",
       "      <td>Jump Shot</td>\n",
       "      <td>2</td>\n",
       "      <td>NYK</td>\n",
       "      <td>102.0</td>\n",
       "      <td>...</td>\n",
       "      <td>Carmelo Anthony</td>\n",
       "      <td>24.0</td>\n",
       "      <td>1</td>\n",
       "      <td>MISSED</td>\n",
       "      <td>OPP</td>\n",
       "      <td>CLE_NYK</td>\n",
       "      <td>0.0</td>\n",
       "      <td>-2.0</td>\n",
       "      <td>19.534649</td>\n",
       "      <td>orta</td>\n",
       "    </tr>\n",
       "    <tr>\n",
       "      <th>3</th>\n",
       "      <td>MISSED</td>\n",
       "      <td>PF</td>\n",
       "      <td>No</td>\n",
       "      <td>890.0</td>\n",
       "      <td>MISSED</td>\n",
       "      <td>CLE</td>\n",
       "      <td>Tip Layup Shot</td>\n",
       "      <td>2</td>\n",
       "      <td>NYK</td>\n",
       "      <td>226.0</td>\n",
       "      <td>...</td>\n",
       "      <td>Kristaps Porzingis</td>\n",
       "      <td>1.0</td>\n",
       "      <td>1</td>\n",
       "      <td>SCORED</td>\n",
       "      <td>OPP</td>\n",
       "      <td>CLE_NYK</td>\n",
       "      <td>2.0</td>\n",
       "      <td>-2.0</td>\n",
       "      <td>2.412986</td>\n",
       "      <td>yakın</td>\n",
       "    </tr>\n",
       "    <tr>\n",
       "      <th>4</th>\n",
       "      <td>SCORED</td>\n",
       "      <td>SF</td>\n",
       "      <td>Yes</td>\n",
       "      <td>52.0</td>\n",
       "      <td>MISSED</td>\n",
       "      <td>CLE</td>\n",
       "      <td>Running Dunk</td>\n",
       "      <td>2</td>\n",
       "      <td>NYK</td>\n",
       "      <td>250.0</td>\n",
       "      <td>...</td>\n",
       "      <td>Richard Jefferson</td>\n",
       "      <td>21.0</td>\n",
       "      <td>1</td>\n",
       "      <td>SCORED</td>\n",
       "      <td>CLE</td>\n",
       "      <td>CLE_NYK</td>\n",
       "      <td>2.0</td>\n",
       "      <td>-4.0</td>\n",
       "      <td>0.050000</td>\n",
       "      <td>yakın</td>\n",
       "    </tr>\n",
       "    <tr>\n",
       "      <th>5</th>\n",
       "      <td>MISSED</td>\n",
       "      <td>PF</td>\n",
       "      <td>No</td>\n",
       "      <td>666.0</td>\n",
       "      <td>SCORED</td>\n",
       "      <td>CLE</td>\n",
       "      <td>Jump Shot</td>\n",
       "      <td>3</td>\n",
       "      <td>NYK</td>\n",
       "      <td>364.0</td>\n",
       "      <td>...</td>\n",
       "      <td>Kyle O'Quinn</td>\n",
       "      <td>99.0</td>\n",
       "      <td>1</td>\n",
       "      <td>MISSED</td>\n",
       "      <td>OPP</td>\n",
       "      <td>CLE_NYK</td>\n",
       "      <td>0.0</td>\n",
       "      <td>-2.0</td>\n",
       "      <td>24.911493</td>\n",
       "      <td>uzak</td>\n",
       "    </tr>\n",
       "    <tr>\n",
       "      <th>6</th>\n",
       "      <td>MISSED</td>\n",
       "      <td>PG</td>\n",
       "      <td>No</td>\n",
       "      <td>679.0</td>\n",
       "      <td>SCORED</td>\n",
       "      <td>CLE</td>\n",
       "      <td>Jump Shot</td>\n",
       "      <td>3</td>\n",
       "      <td>NYK</td>\n",
       "      <td>365.0</td>\n",
       "      <td>...</td>\n",
       "      <td>Brandon Jennings</td>\n",
       "      <td>42.0</td>\n",
       "      <td>1</td>\n",
       "      <td>MISSED</td>\n",
       "      <td>OPP</td>\n",
       "      <td>CLE_NYK</td>\n",
       "      <td>0.0</td>\n",
       "      <td>-2.0</td>\n",
       "      <td>23.811184</td>\n",
       "      <td>uzak</td>\n",
       "    </tr>\n",
       "    <tr>\n",
       "      <th>7</th>\n",
       "      <td>MISSED</td>\n",
       "      <td>PF</td>\n",
       "      <td>No</td>\n",
       "      <td>881.0</td>\n",
       "      <td>SCORED</td>\n",
       "      <td>CLE</td>\n",
       "      <td>Jump Shot</td>\n",
       "      <td>2</td>\n",
       "      <td>NYK</td>\n",
       "      <td>105.0</td>\n",
       "      <td>...</td>\n",
       "      <td>Lance Thomas</td>\n",
       "      <td>20.0</td>\n",
       "      <td>1</td>\n",
       "      <td>BLOCKED</td>\n",
       "      <td>OPP</td>\n",
       "      <td>CLE_NYK</td>\n",
       "      <td>0.0</td>\n",
       "      <td>-2.0</td>\n",
       "      <td>14.514562</td>\n",
       "      <td>orta</td>\n",
       "    </tr>\n",
       "    <tr>\n",
       "      <th>8</th>\n",
       "      <td>SCORED</td>\n",
       "      <td>PF</td>\n",
       "      <td>Yes</td>\n",
       "      <td>58.0</td>\n",
       "      <td>BLOCKED</td>\n",
       "      <td>CLE</td>\n",
       "      <td>Jump Shot</td>\n",
       "      <td>3</td>\n",
       "      <td>NYK</td>\n",
       "      <td>491.0</td>\n",
       "      <td>...</td>\n",
       "      <td>Kevin Love</td>\n",
       "      <td>112.0</td>\n",
       "      <td>1</td>\n",
       "      <td>SCORED</td>\n",
       "      <td>CLE</td>\n",
       "      <td>CLE_NYK</td>\n",
       "      <td>3.0</td>\n",
       "      <td>-2.0</td>\n",
       "      <td>24.106275</td>\n",
       "      <td>uzak</td>\n",
       "    </tr>\n",
       "    <tr>\n",
       "      <th>9</th>\n",
       "      <td>BLOCKED</td>\n",
       "      <td>PG</td>\n",
       "      <td>No</td>\n",
       "      <td>381.0</td>\n",
       "      <td>SCORED</td>\n",
       "      <td>CLE</td>\n",
       "      <td>Jump Shot</td>\n",
       "      <td>3</td>\n",
       "      <td>NYK</td>\n",
       "      <td>153.0</td>\n",
       "      <td>...</td>\n",
       "      <td>Brandon Jennings</td>\n",
       "      <td>9.0</td>\n",
       "      <td>1</td>\n",
       "      <td>MISSED</td>\n",
       "      <td>OPP</td>\n",
       "      <td>CLE_NYK</td>\n",
       "      <td>0.0</td>\n",
       "      <td>1.0</td>\n",
       "      <td>34.252190</td>\n",
       "      <td>orta sahadan</td>\n",
       "    </tr>\n",
       "  </tbody>\n",
       "</table>\n",
       "<p>10 rows × 22 columns</p>\n",
       "</div>"
      ],
      "text/plain": [
       "  self previous shot player position home game  location x  \\\n",
       "0                NaN              PG        No       881.0   \n",
       "1                NaN              PF       Yes        87.0   \n",
       "2             SCORED              SF        No       760.0   \n",
       "3             MISSED              PF        No       890.0   \n",
       "4             SCORED              SF       Yes        52.0   \n",
       "5             MISSED              PF        No       666.0   \n",
       "6             MISSED              PG        No       679.0   \n",
       "7             MISSED              PF        No       881.0   \n",
       "8             SCORED              PF       Yes        58.0   \n",
       "9            BLOCKED              PG        No       381.0   \n",
       "\n",
       "  opponent previous shot home team       shot type  points away team  \\\n",
       "0                    NaN       CLE   Driving Layup       2       NYK   \n",
       "1                 SCORED       CLE       Hook Shot       2       NYK   \n",
       "2                 MISSED       CLE       Jump Shot       2       NYK   \n",
       "3                 MISSED       CLE  Tip Layup Shot       2       NYK   \n",
       "4                 MISSED       CLE    Running Dunk       2       NYK   \n",
       "5                 SCORED       CLE       Jump Shot       3       NYK   \n",
       "6                 SCORED       CLE       Jump Shot       3       NYK   \n",
       "7                 SCORED       CLE       Jump Shot       2       NYK   \n",
       "8                BLOCKED       CLE       Jump Shot       3       NYK   \n",
       "9                 SCORED       CLE       Jump Shot       3       NYK   \n",
       "\n",
       "   location y  ...        shoot player time from last shot quarter  \\\n",
       "0       246.0  ...        Derrick Rose                 NaN       1   \n",
       "1       239.0  ...          Kevin Love                 NaN       1   \n",
       "2       102.0  ...     Carmelo Anthony                24.0       1   \n",
       "3       226.0  ...  Kristaps Porzingis                 1.0       1   \n",
       "4       250.0  ...   Richard Jefferson                21.0       1   \n",
       "5       364.0  ...        Kyle O'Quinn                99.0       1   \n",
       "6       365.0  ...    Brandon Jennings                42.0       1   \n",
       "7       105.0  ...        Lance Thomas                20.0       1   \n",
       "8       491.0  ...          Kevin Love               112.0       1   \n",
       "9       153.0  ...    Brandon Jennings                 9.0       1   \n",
       "\n",
       "   current shot outcome  My_Team HomeAway points_gained difference    uzaklık  \\\n",
       "0                SCORED      OPP  CLE_NYK           2.0        0.0   0.763217   \n",
       "1                MISSED      CLE  CLE_NYK           0.0       -2.0   3.621119   \n",
       "2                MISSED      OPP  CLE_NYK           0.0       -2.0  19.534649   \n",
       "3                SCORED      OPP  CLE_NYK           2.0       -2.0   2.412986   \n",
       "4                SCORED      CLE  CLE_NYK           2.0       -4.0   0.050000   \n",
       "5                MISSED      OPP  CLE_NYK           0.0       -2.0  24.911493   \n",
       "6                MISSED      OPP  CLE_NYK           0.0       -2.0  23.811184   \n",
       "7               BLOCKED      OPP  CLE_NYK           0.0       -2.0  14.514562   \n",
       "8                SCORED      CLE  CLE_NYK           3.0       -2.0  24.106275   \n",
       "9                MISSED      OPP  CLE_NYK           0.0        1.0  34.252190   \n",
       "\n",
       "   uzaklık_durumu  \n",
       "0           yakın  \n",
       "1           yakın  \n",
       "2            orta  \n",
       "3           yakın  \n",
       "4           yakın  \n",
       "5            uzak  \n",
       "6            uzak  \n",
       "7            orta  \n",
       "8            uzak  \n",
       "9    orta sahadan  \n",
       "\n",
       "[10 rows x 22 columns]"
      ]
     },
     "execution_count": 11,
     "metadata": {},
     "output_type": "execute_result"
    }
   ],
   "source": [
    "distance = []\n",
    "for index,row in df.iterrows():\n",
    "    if (row['location x'] < 470):\n",
    "        distance.append(np.sqrt( (52.5 - row['location x'])**2 + (250 - row['location y'])**2 )/10)\n",
    "        \n",
    "    else: \n",
    "        distance.append(np.sqrt( (887.5 - row['location x'])**2 + (250 - row['location y'])**2 )/10)\n",
    "df['uzaklık'] = distance\n",
    "df['uzaklık_durumu'] = distance\n",
    "\n",
    "liste = []\n",
    "for index,row in df.iterrows():\n",
    "    if(row['uzaklık'] < 10 ):\n",
    "        liste.append(\"yakın\")\n",
    "    elif(row['uzaklık'] < 20):\n",
    "        liste.append(\"orta\")\n",
    "    elif(row['uzaklık'] < 30):  \n",
    "        liste.append(\"uzak\")\n",
    "    else:\n",
    "        liste.append(\"orta sahadan\")\n",
    "df['uzaklık_durumu'] = liste\n",
    "df.head(10)\n"
   ]
  },
  {
   "cell_type": "markdown",
   "id": "954ad574",
   "metadata": {
    "papermill": {
     "duration": 0.052531,
     "end_time": "2022-05-06T16:05:08.683422",
     "exception": false,
     "start_time": "2022-05-06T16:05:08.630891",
     "status": "completed"
    },
    "tags": []
   },
   "source": [
    "10) Şut tiplerini bir liste haline getirin ve verilerin tümünü kullanarak her şuttan ne kadar kullanıldığını bulun. Listeyi alfabe sırasında sıralayın ve listenin sonuna kendi isimlendirdiğiniz bir şutu ekleyin. Sonra eklediğiniz bu şutu silin. Bank shot içeren indexleri bir liste haline getirin."
   ]
  },
  {
   "cell_type": "code",
   "execution_count": 12,
   "id": "6b410b97",
   "metadata": {
    "execution": {
     "iopub.execute_input": "2022-05-06T16:05:08.792744Z",
     "iopub.status.busy": "2022-05-06T16:05:08.792196Z",
     "iopub.status.idle": "2022-05-06T16:05:08.806777Z",
     "shell.execute_reply": "2022-05-06T16:05:08.805959Z"
    },
    "papermill": {
     "duration": 0.073635,
     "end_time": "2022-05-06T16:05:08.809687",
     "exception": false,
     "start_time": "2022-05-06T16:05:08.736052",
     "status": "completed"
    },
    "tags": []
   },
   "outputs": [
    {
     "name": "stdout",
     "output_type": "stream",
     "text": [
      "\n",
      " ['Alley Oop Dunk', 'Alley Oop Layup', 'Cutting Dunk Shot', 'Cutting Finger Roll Layup Shot', 'Cutting Layup Shot', 'Driving Bank Hook Shot', 'Driving Bank Shot', 'Driving Dunk', 'Driving Finger Roll Layup', 'Driving Floating Bank Jump Shot', 'Driving Floating Jump Shot', 'Driving Hook Shot', 'Driving Layup', 'Driving Reverse Dunk Shot', 'Driving Reverse Layup', 'Dunk', 'Fadeaway Bank Shot', 'Fadeaway Jumper', 'Finger Roll Layup', 'Floating Jump Shot', 'Hook Bank Shot', 'Hook Shot', 'Jump Bank Shot', 'Jump Shot', 'Layup', 'Pullup Bank Shot', 'Pullup Jump Shot', 'Putback Dunk', 'Putback Layup', 'Reverse Dunk', 'Reverse Layup', 'Running Alley Oop Dunk Shot', 'Running Alley Oop Layup Shot', 'Running Dunk', 'Running Finger Roll Layup', 'Running Hook Shot', 'Running Jump Shot', 'Running Layup', 'Running Pull-Up Jump Shot', 'Running Reverse Dunk Shot', 'Running Reverse Layup', 'Step Back Bank Jump Shot', 'Step Back Jump Shot', 'Tip Dunk Shot', 'Tip Layup Shot', 'Turnaround Bank Hook Shot', 'Turnaround Bank Shot', 'Turnaround Fadeaway', 'Turnaround Fadeaway Bank Jump Shot', 'Turnaround Fadeaway Shot', 'Turnaround Hook Shot', 'Turnaround Jump Shot']\n",
      "\n",
      " [89, 56, 188, 19, 279, 3, 98, 108, 134, 42, 207, 73, 1018, 3, 105, 147, 13, 157, 25, 229, 5, 192, 145, 6656, 760, 32, 696, 37, 154, 6, 138, 6, 4, 105, 40, 1, 79, 256, 26, 1, 23, 5, 317, 37, 275, 6, 36, 77, 2, 83, 99, 259]\n",
      "\n",
      " ['Alley Oop Dunk', 'Alley Oop Layup', 'Cutting Dunk Shot', 'Cutting Finger Roll Layup Shot', 'Cutting Layup Shot', 'Driving Bank Hook Shot', 'Driving Bank Shot', 'Driving Dunk', 'Driving Finger Roll Layup', 'Driving Floating Bank Jump Shot', 'Driving Floating Jump Shot', 'Driving Hook Shot', 'Driving Layup', 'Driving Reverse Dunk Shot', 'Driving Reverse Layup', 'Dunk', 'Fadeaway Bank Shot', 'Fadeaway Jumper', 'Finger Roll Layup', 'Floating Jump Shot', 'Hook Bank Shot', 'Hook Shot', 'Jump Bank Shot', 'Jump Shot', 'Layup', 'Pullup Bank Shot', 'Pullup Jump Shot', 'Putback Dunk', 'Putback Layup', 'Reverse Dunk', 'Reverse Layup', 'Running Alley Oop Dunk Shot', 'Running Alley Oop Layup Shot', 'Running Dunk', 'Running Finger Roll Layup', 'Running Hook Shot', 'Running Jump Shot', 'Running Layup', 'Running Pull-Up Jump Shot', 'Running Reverse Dunk Shot', 'Running Reverse Layup', 'Step Back Bank Jump Shot', 'Step Back Jump Shot', 'Tip Dunk Shot', 'Tip Layup Shot', 'Turnaround Bank Hook Shot', 'Turnaround Bank Shot', 'Turnaround Fadeaway', 'Turnaround Fadeaway Bank Jump Shot', 'Turnaround Fadeaway Shot', 'Turnaround Hook Shot', 'Turnaround Jump Shot', 'sonic shot']\n",
      "\n",
      " ['Alley Oop Dunk', 'Alley Oop Layup', 'Cutting Dunk Shot', 'Cutting Finger Roll Layup Shot', 'Cutting Layup Shot', 'Driving Bank Hook Shot', 'Driving Bank Shot', 'Driving Dunk', 'Driving Finger Roll Layup', 'Driving Floating Bank Jump Shot', 'Driving Floating Jump Shot', 'Driving Hook Shot', 'Driving Layup', 'Driving Reverse Dunk Shot', 'Driving Reverse Layup', 'Dunk', 'Fadeaway Bank Shot', 'Fadeaway Jumper', 'Finger Roll Layup', 'Floating Jump Shot', 'Hook Bank Shot', 'Hook Shot', 'Jump Bank Shot', 'Jump Shot', 'Layup', 'Pullup Bank Shot', 'Pullup Jump Shot', 'Putback Dunk', 'Putback Layup', 'Reverse Dunk', 'Reverse Layup', 'Running Alley Oop Dunk Shot', 'Running Alley Oop Layup Shot', 'Running Dunk', 'Running Finger Roll Layup', 'Running Hook Shot', 'Running Jump Shot', 'Running Layup', 'Running Pull-Up Jump Shot', 'Running Reverse Dunk Shot', 'Running Reverse Layup', 'Step Back Bank Jump Shot', 'Step Back Jump Shot', 'Tip Dunk Shot', 'Tip Layup Shot', 'Turnaround Bank Hook Shot', 'Turnaround Bank Shot', 'Turnaround Fadeaway', 'Turnaround Fadeaway Bank Jump Shot', 'Turnaround Fadeaway Shot', 'Turnaround Hook Shot', 'Turnaround Jump Shot']\n",
      "\n",
      " Bank Shot içerenler: ['Driving Bank Shot', 'Fadeaway Bank Shot', 'Hook Bank Shot', 'Jump Bank Shot', 'Pullup Bank Shot', 'Turnaround Bank Shot']\n"
     ]
    }
   ],
   "source": [
    "#10\n",
    "list_of_shottype = df.groupby(['shot type']).My_Team.count().index.tolist()\n",
    "print(\"\\n\",list_of_shottype)\n",
    "sut_type_count = df.groupby(['shot type']).My_Team.count().tolist()\n",
    "print(\"\\n\",sut_type_count)\n",
    "list_of_shottype.append('sonic shot')\n",
    "print(\"\\n\",list_of_shottype)\n",
    "list_of_shottype.remove('sonic shot')\n",
    "print(\"\\n\",list_of_shottype)\n",
    "bank_shot_count = list(filter(lambda a: 'Bank Shot' in a, list_of_shottype))\n",
    "print(\"\\n Bank Shot içerenler:\", bank_shot_count)\n",
    "#Eğer bank shot şeklinde ard arda gelmesi gerekmiyorsa bank ve shot içermesi gerekiyorsa lambda x: 'Bank' veririm."
   ]
  },
  {
   "cell_type": "markdown",
   "id": "68ae9ce4",
   "metadata": {
    "papermill": {
     "duration": 0.053194,
     "end_time": "2022-05-06T16:05:08.918614",
     "exception": false,
     "start_time": "2022-05-06T16:05:08.865420",
     "status": "completed"
    },
    "tags": []
   },
   "source": [
    "11) Boş bir seri yaratın. Şut tiplerinden 'a' harfi içerenleri listede tutmak için bir kod yazın."
   ]
  },
  {
   "cell_type": "code",
   "execution_count": 13,
   "id": "c79ed692",
   "metadata": {
    "execution": {
     "iopub.execute_input": "2022-05-06T16:05:09.031400Z",
     "iopub.status.busy": "2022-05-06T16:05:09.030802Z",
     "iopub.status.idle": "2022-05-06T16:05:09.037981Z",
     "shell.execute_reply": "2022-05-06T16:05:09.036574Z"
    },
    "papermill": {
     "duration": 0.066614,
     "end_time": "2022-05-06T16:05:09.040556",
     "exception": false,
     "start_time": "2022-05-06T16:05:08.973942",
     "status": "completed"
    },
    "tags": []
   },
   "outputs": [
    {
     "name": "stdout",
     "output_type": "stream",
     "text": [
      "a harfi içeren şut tipleri: ['Alley Oop Layup', 'Cutting Finger Roll Layup Shot', 'Cutting Layup Shot', 'Driving Bank Hook Shot', 'Driving Bank Shot', 'Driving Finger Roll Layup', 'Driving Floating Bank Jump Shot', 'Driving Floating Jump Shot', 'Driving Layup', 'Driving Reverse Layup', 'Fadeaway Bank Shot', 'Fadeaway Jumper', 'Finger Roll Layup', 'Floating Jump Shot', 'Hook Bank Shot', 'Jump Bank Shot', 'Layup', 'Pullup Bank Shot', 'Putback Dunk', 'Putback Layup', 'Reverse Layup', 'Running Alley Oop Layup Shot', 'Running Finger Roll Layup', 'Running Layup', 'Running Reverse Layup', 'Step Back Bank Jump Shot', 'Step Back Jump Shot', 'Tip Layup Shot', 'Turnaround Bank Hook Shot', 'Turnaround Bank Shot', 'Turnaround Fadeaway', 'Turnaround Fadeaway Bank Jump Shot', 'Turnaround Fadeaway Shot', 'Turnaround Hook Shot', 'Turnaround Jump Shot']\n"
     ]
    }
   ],
   "source": [
    "#11\n",
    "a_count = pd.Series([],dtype=pd.StringDtype())\n",
    "a_count = list(filter(lambda a: 'a' in a, list_of_shottype))\n",
    "print(\"a harfi içeren şut tipleri:\",a_count)"
   ]
  },
  {
   "cell_type": "markdown",
   "id": "680e97a0",
   "metadata": {
    "papermill": {
     "duration": 0.055387,
     "end_time": "2022-05-06T16:05:09.151887",
     "exception": false,
     "start_time": "2022-05-06T16:05:09.096500",
     "status": "completed"
    },
    "tags": []
   },
   "source": [
    "12)'List comprehension' kullanarak, atılan tüm şutlardan kaç tanesinin y değerinin 250'den büyük olduğunu veren fonksiyonu yazın."
   ]
  },
  {
   "cell_type": "code",
   "execution_count": 14,
   "id": "3b8a07b6",
   "metadata": {
    "execution": {
     "iopub.execute_input": "2022-05-06T16:05:09.263828Z",
     "iopub.status.busy": "2022-05-06T16:05:09.263272Z",
     "iopub.status.idle": "2022-05-06T16:05:09.354913Z",
     "shell.execute_reply": "2022-05-06T16:05:09.354036Z"
    },
    "papermill": {
     "duration": 0.149616,
     "end_time": "2022-05-06T16:05:09.356962",
     "exception": false,
     "start_time": "2022-05-06T16:05:09.207346",
     "status": "completed"
    },
    "tags": []
   },
   "outputs": [
    {
     "data": {
      "text/plain": [
       "6295"
      ]
     },
     "execution_count": 14,
     "metadata": {},
     "output_type": "execute_result"
    }
   ],
   "source": [
    "#12\n",
    "def suttipi(df):\n",
    "    return[x for x in range(len(df)) if df['location y'][x] > 250]\n",
    "len(suttipi(df))"
   ]
  },
  {
   "cell_type": "markdown",
   "id": "9929b0eb",
   "metadata": {
    "papermill": {
     "duration": 0.057345,
     "end_time": "2022-05-06T16:05:09.470049",
     "exception": false,
     "start_time": "2022-05-06T16:05:09.412704",
     "status": "completed"
    },
    "tags": []
   },
   "source": [
    "13) Bir dictionary oluşturun. O dictionary'e verimizin quarter bilgisini gönderceğiz. O gönderdiğimiz sayıya göre ilk çeyrek, ikinci çeyrek, üçüncü çeyrek ve son çeyrek olarak değiştirsin."
   ]
  },
  {
   "cell_type": "code",
   "execution_count": 15,
   "id": "dbdb787d",
   "metadata": {
    "execution": {
     "iopub.execute_input": "2022-05-06T16:05:09.584300Z",
     "iopub.status.busy": "2022-05-06T16:05:09.583698Z",
     "iopub.status.idle": "2022-05-06T16:05:09.631156Z",
     "shell.execute_reply": "2022-05-06T16:05:09.630325Z"
    },
    "papermill": {
     "duration": 0.107893,
     "end_time": "2022-05-06T16:05:09.633516",
     "exception": false,
     "start_time": "2022-05-06T16:05:09.525623",
     "status": "completed"
    },
    "tags": []
   },
   "outputs": [
    {
     "data": {
      "text/html": [
       "<div>\n",
       "<style scoped>\n",
       "    .dataframe tbody tr th:only-of-type {\n",
       "        vertical-align: middle;\n",
       "    }\n",
       "\n",
       "    .dataframe tbody tr th {\n",
       "        vertical-align: top;\n",
       "    }\n",
       "\n",
       "    .dataframe thead th {\n",
       "        text-align: right;\n",
       "    }\n",
       "</style>\n",
       "<table border=\"1\" class=\"dataframe\">\n",
       "  <thead>\n",
       "    <tr style=\"text-align: right;\">\n",
       "      <th></th>\n",
       "      <th>self previous shot</th>\n",
       "      <th>player position</th>\n",
       "      <th>home game</th>\n",
       "      <th>location x</th>\n",
       "      <th>opponent previous shot</th>\n",
       "      <th>home team</th>\n",
       "      <th>shot type</th>\n",
       "      <th>points</th>\n",
       "      <th>away team</th>\n",
       "      <th>location y</th>\n",
       "      <th>...</th>\n",
       "      <th>shoot player</th>\n",
       "      <th>time from last shot</th>\n",
       "      <th>quarter</th>\n",
       "      <th>current shot outcome</th>\n",
       "      <th>My_Team</th>\n",
       "      <th>HomeAway</th>\n",
       "      <th>points_gained</th>\n",
       "      <th>difference</th>\n",
       "      <th>uzaklık</th>\n",
       "      <th>uzaklık_durumu</th>\n",
       "    </tr>\n",
       "  </thead>\n",
       "  <tbody>\n",
       "    <tr>\n",
       "      <th>0</th>\n",
       "      <td>NaN</td>\n",
       "      <td>PG</td>\n",
       "      <td>No</td>\n",
       "      <td>881.0</td>\n",
       "      <td>NaN</td>\n",
       "      <td>CLE</td>\n",
       "      <td>Driving Layup</td>\n",
       "      <td>2</td>\n",
       "      <td>NYK</td>\n",
       "      <td>246.0</td>\n",
       "      <td>...</td>\n",
       "      <td>Derrick Rose</td>\n",
       "      <td>NaN</td>\n",
       "      <td>İlk Çeyrek</td>\n",
       "      <td>SCORED</td>\n",
       "      <td>OPP</td>\n",
       "      <td>CLE_NYK</td>\n",
       "      <td>2.0</td>\n",
       "      <td>0.0</td>\n",
       "      <td>0.763217</td>\n",
       "      <td>yakın</td>\n",
       "    </tr>\n",
       "    <tr>\n",
       "      <th>1</th>\n",
       "      <td>NaN</td>\n",
       "      <td>PF</td>\n",
       "      <td>Yes</td>\n",
       "      <td>87.0</td>\n",
       "      <td>SCORED</td>\n",
       "      <td>CLE</td>\n",
       "      <td>Hook Shot</td>\n",
       "      <td>2</td>\n",
       "      <td>NYK</td>\n",
       "      <td>239.0</td>\n",
       "      <td>...</td>\n",
       "      <td>Kevin Love</td>\n",
       "      <td>NaN</td>\n",
       "      <td>İlk Çeyrek</td>\n",
       "      <td>MISSED</td>\n",
       "      <td>CLE</td>\n",
       "      <td>CLE_NYK</td>\n",
       "      <td>0.0</td>\n",
       "      <td>-2.0</td>\n",
       "      <td>3.621119</td>\n",
       "      <td>yakın</td>\n",
       "    </tr>\n",
       "    <tr>\n",
       "      <th>2</th>\n",
       "      <td>SCORED</td>\n",
       "      <td>SF</td>\n",
       "      <td>No</td>\n",
       "      <td>760.0</td>\n",
       "      <td>MISSED</td>\n",
       "      <td>CLE</td>\n",
       "      <td>Jump Shot</td>\n",
       "      <td>2</td>\n",
       "      <td>NYK</td>\n",
       "      <td>102.0</td>\n",
       "      <td>...</td>\n",
       "      <td>Carmelo Anthony</td>\n",
       "      <td>24.0</td>\n",
       "      <td>İlk Çeyrek</td>\n",
       "      <td>MISSED</td>\n",
       "      <td>OPP</td>\n",
       "      <td>CLE_NYK</td>\n",
       "      <td>0.0</td>\n",
       "      <td>-2.0</td>\n",
       "      <td>19.534649</td>\n",
       "      <td>orta</td>\n",
       "    </tr>\n",
       "    <tr>\n",
       "      <th>3</th>\n",
       "      <td>MISSED</td>\n",
       "      <td>PF</td>\n",
       "      <td>No</td>\n",
       "      <td>890.0</td>\n",
       "      <td>MISSED</td>\n",
       "      <td>CLE</td>\n",
       "      <td>Tip Layup Shot</td>\n",
       "      <td>2</td>\n",
       "      <td>NYK</td>\n",
       "      <td>226.0</td>\n",
       "      <td>...</td>\n",
       "      <td>Kristaps Porzingis</td>\n",
       "      <td>1.0</td>\n",
       "      <td>İlk Çeyrek</td>\n",
       "      <td>SCORED</td>\n",
       "      <td>OPP</td>\n",
       "      <td>CLE_NYK</td>\n",
       "      <td>2.0</td>\n",
       "      <td>-2.0</td>\n",
       "      <td>2.412986</td>\n",
       "      <td>yakın</td>\n",
       "    </tr>\n",
       "    <tr>\n",
       "      <th>4</th>\n",
       "      <td>SCORED</td>\n",
       "      <td>SF</td>\n",
       "      <td>Yes</td>\n",
       "      <td>52.0</td>\n",
       "      <td>MISSED</td>\n",
       "      <td>CLE</td>\n",
       "      <td>Running Dunk</td>\n",
       "      <td>2</td>\n",
       "      <td>NYK</td>\n",
       "      <td>250.0</td>\n",
       "      <td>...</td>\n",
       "      <td>Richard Jefferson</td>\n",
       "      <td>21.0</td>\n",
       "      <td>İlk Çeyrek</td>\n",
       "      <td>SCORED</td>\n",
       "      <td>CLE</td>\n",
       "      <td>CLE_NYK</td>\n",
       "      <td>2.0</td>\n",
       "      <td>-4.0</td>\n",
       "      <td>0.050000</td>\n",
       "      <td>yakın</td>\n",
       "    </tr>\n",
       "    <tr>\n",
       "      <th>...</th>\n",
       "      <td>...</td>\n",
       "      <td>...</td>\n",
       "      <td>...</td>\n",
       "      <td>...</td>\n",
       "      <td>...</td>\n",
       "      <td>...</td>\n",
       "      <td>...</td>\n",
       "      <td>...</td>\n",
       "      <td>...</td>\n",
       "      <td>...</td>\n",
       "      <td>...</td>\n",
       "      <td>...</td>\n",
       "      <td>...</td>\n",
       "      <td>...</td>\n",
       "      <td>...</td>\n",
       "      <td>...</td>\n",
       "      <td>...</td>\n",
       "      <td>...</td>\n",
       "      <td>...</td>\n",
       "      <td>...</td>\n",
       "      <td>...</td>\n",
       "    </tr>\n",
       "    <tr>\n",
       "      <th>13546</th>\n",
       "      <td>MISSED</td>\n",
       "      <td>C</td>\n",
       "      <td>Yes</td>\n",
       "      <td>838.0</td>\n",
       "      <td>SCORED</td>\n",
       "      <td>CLE</td>\n",
       "      <td>Hook Shot</td>\n",
       "      <td>2</td>\n",
       "      <td>TOR</td>\n",
       "      <td>270.0</td>\n",
       "      <td>...</td>\n",
       "      <td>Walter Tavares</td>\n",
       "      <td>76.0</td>\n",
       "      <td>Son Çeyrek</td>\n",
       "      <td>MISSED</td>\n",
       "      <td>CLE</td>\n",
       "      <td>CLE_TOR</td>\n",
       "      <td>0.0</td>\n",
       "      <td>-22.0</td>\n",
       "      <td>5.338773</td>\n",
       "      <td>yakın</td>\n",
       "    </tr>\n",
       "    <tr>\n",
       "      <th>13547</th>\n",
       "      <td>SCORED</td>\n",
       "      <td>SF</td>\n",
       "      <td>No</td>\n",
       "      <td>87.0</td>\n",
       "      <td>MISSED</td>\n",
       "      <td>CLE</td>\n",
       "      <td>Jump Shot</td>\n",
       "      <td>2</td>\n",
       "      <td>TOR</td>\n",
       "      <td>59.0</td>\n",
       "      <td>...</td>\n",
       "      <td>Bruno Caboclo</td>\n",
       "      <td>25.0</td>\n",
       "      <td>Son Çeyrek</td>\n",
       "      <td>SCORED</td>\n",
       "      <td>OPP</td>\n",
       "      <td>CLE_TOR</td>\n",
       "      <td>2.0</td>\n",
       "      <td>-22.0</td>\n",
       "      <td>19.409083</td>\n",
       "      <td>orta</td>\n",
       "    </tr>\n",
       "    <tr>\n",
       "      <th>13548</th>\n",
       "      <td>MISSED</td>\n",
       "      <td>SF</td>\n",
       "      <td>Yes</td>\n",
       "      <td>895.0</td>\n",
       "      <td>SCORED</td>\n",
       "      <td>CLE</td>\n",
       "      <td>Jump Shot</td>\n",
       "      <td>3</td>\n",
       "      <td>TOR</td>\n",
       "      <td>22.0</td>\n",
       "      <td>...</td>\n",
       "      <td>James Jones</td>\n",
       "      <td>33.0</td>\n",
       "      <td>Son Çeyrek</td>\n",
       "      <td>MISSED</td>\n",
       "      <td>CLE</td>\n",
       "      <td>CLE_TOR</td>\n",
       "      <td>0.0</td>\n",
       "      <td>-24.0</td>\n",
       "      <td>22.812332</td>\n",
       "      <td>uzak</td>\n",
       "    </tr>\n",
       "    <tr>\n",
       "      <th>13549</th>\n",
       "      <td>SCORED</td>\n",
       "      <td>C</td>\n",
       "      <td>No</td>\n",
       "      <td>298.0</td>\n",
       "      <td>MISSED</td>\n",
       "      <td>CLE</td>\n",
       "      <td>Jump Shot</td>\n",
       "      <td>3</td>\n",
       "      <td>TOR</td>\n",
       "      <td>221.0</td>\n",
       "      <td>...</td>\n",
       "      <td>Lucas Nogueira</td>\n",
       "      <td>41.0</td>\n",
       "      <td>Son Çeyrek</td>\n",
       "      <td>MISSED</td>\n",
       "      <td>OPP</td>\n",
       "      <td>CLE_TOR</td>\n",
       "      <td>0.0</td>\n",
       "      <td>-24.0</td>\n",
       "      <td>24.720690</td>\n",
       "      <td>uzak</td>\n",
       "    </tr>\n",
       "    <tr>\n",
       "      <th>13550</th>\n",
       "      <td>MISSED</td>\n",
       "      <td>SF</td>\n",
       "      <td>Yes</td>\n",
       "      <td>887.0</td>\n",
       "      <td>MISSED</td>\n",
       "      <td>CLE</td>\n",
       "      <td>Driving Reverse Layup</td>\n",
       "      <td>2</td>\n",
       "      <td>TOR</td>\n",
       "      <td>262.0</td>\n",
       "      <td>...</td>\n",
       "      <td>James Jones</td>\n",
       "      <td>27.0</td>\n",
       "      <td>Son Çeyrek</td>\n",
       "      <td>SCORED</td>\n",
       "      <td>CLE</td>\n",
       "      <td>CLE_TOR</td>\n",
       "      <td>2.0</td>\n",
       "      <td>-24.0</td>\n",
       "      <td>1.201041</td>\n",
       "      <td>yakın</td>\n",
       "    </tr>\n",
       "  </tbody>\n",
       "</table>\n",
       "<p>13551 rows × 22 columns</p>\n",
       "</div>"
      ],
      "text/plain": [
       "      self previous shot player position home game  location x  \\\n",
       "0                    NaN              PG        No       881.0   \n",
       "1                    NaN              PF       Yes        87.0   \n",
       "2                 SCORED              SF        No       760.0   \n",
       "3                 MISSED              PF        No       890.0   \n",
       "4                 SCORED              SF       Yes        52.0   \n",
       "...                  ...             ...       ...         ...   \n",
       "13546             MISSED               C       Yes       838.0   \n",
       "13547             SCORED              SF        No        87.0   \n",
       "13548             MISSED              SF       Yes       895.0   \n",
       "13549             SCORED               C        No       298.0   \n",
       "13550             MISSED              SF       Yes       887.0   \n",
       "\n",
       "      opponent previous shot home team              shot type  points  \\\n",
       "0                        NaN       CLE          Driving Layup       2   \n",
       "1                     SCORED       CLE              Hook Shot       2   \n",
       "2                     MISSED       CLE              Jump Shot       2   \n",
       "3                     MISSED       CLE         Tip Layup Shot       2   \n",
       "4                     MISSED       CLE           Running Dunk       2   \n",
       "...                      ...       ...                    ...     ...   \n",
       "13546                 SCORED       CLE              Hook Shot       2   \n",
       "13547                 MISSED       CLE              Jump Shot       2   \n",
       "13548                 SCORED       CLE              Jump Shot       3   \n",
       "13549                 MISSED       CLE              Jump Shot       3   \n",
       "13550                 MISSED       CLE  Driving Reverse Layup       2   \n",
       "\n",
       "      away team  location y  ...        shoot player time from last shot  \\\n",
       "0           NYK       246.0  ...        Derrick Rose                 NaN   \n",
       "1           NYK       239.0  ...          Kevin Love                 NaN   \n",
       "2           NYK       102.0  ...     Carmelo Anthony                24.0   \n",
       "3           NYK       226.0  ...  Kristaps Porzingis                 1.0   \n",
       "4           NYK       250.0  ...   Richard Jefferson                21.0   \n",
       "...         ...         ...  ...                 ...                 ...   \n",
       "13546       TOR       270.0  ...      Walter Tavares                76.0   \n",
       "13547       TOR        59.0  ...       Bruno Caboclo                25.0   \n",
       "13548       TOR        22.0  ...         James Jones                33.0   \n",
       "13549       TOR       221.0  ...      Lucas Nogueira                41.0   \n",
       "13550       TOR       262.0  ...         James Jones                27.0   \n",
       "\n",
       "          quarter  current shot outcome My_Team HomeAway points_gained  \\\n",
       "0      İlk Çeyrek                SCORED     OPP  CLE_NYK           2.0   \n",
       "1      İlk Çeyrek                MISSED     CLE  CLE_NYK           0.0   \n",
       "2      İlk Çeyrek                MISSED     OPP  CLE_NYK           0.0   \n",
       "3      İlk Çeyrek                SCORED     OPP  CLE_NYK           2.0   \n",
       "4      İlk Çeyrek                SCORED     CLE  CLE_NYK           2.0   \n",
       "...           ...                   ...     ...      ...           ...   \n",
       "13546  Son Çeyrek                MISSED     CLE  CLE_TOR           0.0   \n",
       "13547  Son Çeyrek                SCORED     OPP  CLE_TOR           2.0   \n",
       "13548  Son Çeyrek                MISSED     CLE  CLE_TOR           0.0   \n",
       "13549  Son Çeyrek                MISSED     OPP  CLE_TOR           0.0   \n",
       "13550  Son Çeyrek                SCORED     CLE  CLE_TOR           2.0   \n",
       "\n",
       "      difference    uzaklık  uzaklık_durumu  \n",
       "0            0.0   0.763217           yakın  \n",
       "1           -2.0   3.621119           yakın  \n",
       "2           -2.0  19.534649            orta  \n",
       "3           -2.0   2.412986           yakın  \n",
       "4           -4.0   0.050000           yakın  \n",
       "...          ...        ...             ...  \n",
       "13546      -22.0   5.338773           yakın  \n",
       "13547      -22.0  19.409083            orta  \n",
       "13548      -24.0  22.812332            uzak  \n",
       "13549      -24.0  24.720690            uzak  \n",
       "13550      -24.0   1.201041           yakın  \n",
       "\n",
       "[13551 rows x 22 columns]"
      ]
     },
     "execution_count": 15,
     "metadata": {},
     "output_type": "execute_result"
    }
   ],
   "source": [
    "#13\n",
    "dict = {1 : 'İlk Çeyrek', 2 : 'İkinci Çeyrek', 3: 'Üçüncü Çeyrek',  4 : 'Son Çeyrek'}\n",
    "df_quarter=df.replace({\"quarter\": dict})\n",
    "df_quarter"
   ]
  },
  {
   "cell_type": "markdown",
   "id": "102e76a8",
   "metadata": {
    "papermill": {
     "duration": 0.054914,
     "end_time": "2022-05-06T16:05:10.077048",
     "exception": false,
     "start_time": "2022-05-06T16:05:10.022134",
     "status": "completed"
    },
    "tags": []
   },
   "source": [
    "15) Lebron James için Atlanta (ATL) ve New York Knicks(NYK maçlarında), kaç şut atıp, kaç şut kaçırdığını gösteren bir dataframe oluşturun. Ve onu yazdırın."
   ]
  },
  {
   "cell_type": "code",
   "execution_count": 16,
   "id": "121851a0",
   "metadata": {
    "execution": {
     "iopub.execute_input": "2022-05-06T16:05:10.191501Z",
     "iopub.status.busy": "2022-05-06T16:05:10.190958Z",
     "iopub.status.idle": "2022-05-06T16:05:10.218535Z",
     "shell.execute_reply": "2022-05-06T16:05:10.217202Z"
    },
    "papermill": {
     "duration": 0.088288,
     "end_time": "2022-05-06T16:05:10.221344",
     "exception": false,
     "start_time": "2022-05-06T16:05:10.133056",
     "status": "completed"
    },
    "tags": []
   },
   "outputs": [
    {
     "name": "stdout",
     "output_type": "stream",
     "text": [
      "\n",
      "   Takım MİSSED SCORED\n",
      "0   ATL     31     45\n",
      "1   NYK     19     35\n"
     ]
    }
   ],
   "source": [
    "#15\n",
    "df_leb_missed = df_lebron.loc[df_lebron['current shot outcome'] == \"MISSED\"]\n",
    "df_leb_missed2 = df_leb_missed.loc[(df_lebron['HomeAway'] == \"ATL_CLE\") | (df_lebron['HomeAway'] == \"CLE_ATL\")]\n",
    "df_leb_scored = df_lebron.loc[df_lebron['current shot outcome'] == \"SCORED\"]\n",
    "df_leb_scored2 = df_leb_scored.loc[(df_lebron['HomeAway'] == \"ATL_CLE\") | (df_lebron['HomeAway'] == \"CLE_ATL\")]\n",
    "df_leb_missed_nyk = df_lebron.loc[df_lebron['current shot outcome'] == \"MISSED\"]\n",
    "df_leb_missed2_nyk = df_leb_missed.loc[(df_lebron['HomeAway'] == \"NYK_CLE\") | (df_lebron['HomeAway'] == \"CLE_NYK\")]\n",
    "df_leb_scored_nyk = df_lebron.loc[df_lebron['current shot outcome'] == \"SCORED\"]\n",
    "df_leb_scored2_nyk = df_leb_scored.loc[(df_lebron['HomeAway'] == \"NYK_CLE\") | (df_lebron['HomeAway'] == \"CLE_NYK\")]\n",
    "df_lebron_new = df_leb_missed2.groupby(['HomeAway', 'current shot outcome'])['current shot outcome'].count()\n",
    "df_lebron_new2 = df_leb_scored2.groupby(['HomeAway', 'current shot outcome'])['current shot outcome'].count()\n",
    "df_lebron_new3 = df_leb_missed2_nyk.groupby(['HomeAway', 'current shot outcome'])['current shot outcome'].count()\n",
    "df_lebron_new4  = df_leb_scored2_nyk.groupby(['HomeAway', 'current shot outcome'])['current shot outcome'].count()\n",
    "#burada sütunları doldurmak için sonuçları buldum.\n",
    "dfcombined1 = pd.concat([df_lebron_new, df_lebron_new2,df_lebron_new3,df_lebron_new4 ])\n",
    "#dfcombined1\n",
    "\n",
    "veri = np.array([['ATL',31,45], ['NYK',19, 35]])\n",
    "sutun_isimleri = ['Takım','MİSSED', 'SCORED']\n",
    "veriseti = pd.DataFrame(data=veri, columns=sutun_isimleri)\n",
    "print(\"\\n\",veriseti)"
   ]
  },
  {
   "cell_type": "markdown",
   "id": "76f77ddd",
   "metadata": {
    "papermill": {
     "duration": 0.056169,
     "end_time": "2022-05-06T16:05:10.335968",
     "exception": false,
     "start_time": "2022-05-06T16:05:10.279799",
     "status": "completed"
    },
    "tags": []
   },
   "source": [
    "16) Veriyi oyuncu ismi(shoot player) ve çeyrek(quarter)'lara göre gruplandırın. Oluşturduğunuz uzaklık sütununu kullanarak, o çeyreklerde attığı maksimum uzaklıkların indexlerini buldurunuz."
   ]
  },
  {
   "cell_type": "code",
   "execution_count": 17,
   "id": "ccac4b8d",
   "metadata": {
    "execution": {
     "iopub.execute_input": "2022-05-06T16:05:10.459198Z",
     "iopub.status.busy": "2022-05-06T16:05:10.458592Z",
     "iopub.status.idle": "2022-05-06T16:05:10.480720Z",
     "shell.execute_reply": "2022-05-06T16:05:10.479866Z"
    },
    "papermill": {
     "duration": 0.086583,
     "end_time": "2022-05-06T16:05:10.482868",
     "exception": false,
     "start_time": "2022-05-06T16:05:10.396285",
     "status": "completed"
    },
    "tags": []
   },
   "outputs": [
    {
     "data": {
      "text/html": [
       "<div>\n",
       "<style scoped>\n",
       "    .dataframe tbody tr th:only-of-type {\n",
       "        vertical-align: middle;\n",
       "    }\n",
       "\n",
       "    .dataframe tbody tr th {\n",
       "        vertical-align: top;\n",
       "    }\n",
       "\n",
       "    .dataframe thead th {\n",
       "        text-align: right;\n",
       "    }\n",
       "</style>\n",
       "<table border=\"1\" class=\"dataframe\">\n",
       "  <thead>\n",
       "    <tr style=\"text-align: right;\">\n",
       "      <th></th>\n",
       "      <th></th>\n",
       "      <th>max</th>\n",
       "    </tr>\n",
       "    <tr>\n",
       "      <th>shoot player</th>\n",
       "      <th>quarter</th>\n",
       "      <th></th>\n",
       "    </tr>\n",
       "  </thead>\n",
       "  <tbody>\n",
       "    <tr>\n",
       "      <th>A.J. Hammons</th>\n",
       "      <th>4</th>\n",
       "      <td>14.154946</td>\n",
       "    </tr>\n",
       "    <tr>\n",
       "      <th rowspan=\"4\" valign=\"top\">Aaron Brooks</th>\n",
       "      <th>1</th>\n",
       "      <td>27.383070</td>\n",
       "    </tr>\n",
       "    <tr>\n",
       "      <th>2</th>\n",
       "      <td>27.387634</td>\n",
       "    </tr>\n",
       "    <tr>\n",
       "      <th>3</th>\n",
       "      <td>23.954384</td>\n",
       "    </tr>\n",
       "    <tr>\n",
       "      <th>4</th>\n",
       "      <td>28.450176</td>\n",
       "    </tr>\n",
       "    <tr>\n",
       "      <th>...</th>\n",
       "      <th>...</th>\n",
       "      <td>...</td>\n",
       "    </tr>\n",
       "    <tr>\n",
       "      <th rowspan=\"2\" valign=\"top\">Zach Randolph</th>\n",
       "      <th>3</th>\n",
       "      <td>27.397126</td>\n",
       "    </tr>\n",
       "    <tr>\n",
       "      <th>4</th>\n",
       "      <td>23.033942</td>\n",
       "    </tr>\n",
       "    <tr>\n",
       "      <th rowspan=\"3\" valign=\"top\">Zaza Pachulia</th>\n",
       "      <th>1</th>\n",
       "      <td>5.950840</td>\n",
       "    </tr>\n",
       "    <tr>\n",
       "      <th>2</th>\n",
       "      <td>1.950000</td>\n",
       "    </tr>\n",
       "    <tr>\n",
       "      <th>3</th>\n",
       "      <td>10.389057</td>\n",
       "    </tr>\n",
       "  </tbody>\n",
       "</table>\n",
       "<p>1321 rows × 1 columns</p>\n",
       "</div>"
      ],
      "text/plain": [
       "                             max\n",
       "shoot player  quarter           \n",
       "A.J. Hammons  4        14.154946\n",
       "Aaron Brooks  1        27.383070\n",
       "              2        27.387634\n",
       "              3        23.954384\n",
       "              4        28.450176\n",
       "...                          ...\n",
       "Zach Randolph 3        27.397126\n",
       "              4        23.033942\n",
       "Zaza Pachulia 1         5.950840\n",
       "              2         1.950000\n",
       "              3        10.389057\n",
       "\n",
       "[1321 rows x 1 columns]"
      ]
     },
     "execution_count": 17,
     "metadata": {},
     "output_type": "execute_result"
    }
   ],
   "source": [
    "#16\n",
    "quarter_max_mesafe = df.groupby(['shoot player', 'quarter']).uzaklık.agg([max])\n",
    "quarter_max_mesafe"
   ]
  },
  {
   "cell_type": "markdown",
   "id": "6f843519",
   "metadata": {
    "papermill": {
     "duration": 0.059017,
     "end_time": "2022-05-06T16:05:10.603116",
     "exception": false,
     "start_time": "2022-05-06T16:05:10.544099",
     "status": "completed"
    },
    "tags": []
   },
   "source": [
    "17) Cleveland'lı oyuncuları ve karşılarında oynadıkları takımları gruplayın. Her clevelandlı oyuncunun rakibe attığı toplam şutun miktarına göre büyükten küçüğe sıralayın."
   ]
  },
  {
   "cell_type": "code",
   "execution_count": 18,
   "id": "af64525b",
   "metadata": {
    "execution": {
     "iopub.execute_input": "2022-05-06T16:05:10.720353Z",
     "iopub.status.busy": "2022-05-06T16:05:10.719414Z",
     "iopub.status.idle": "2022-05-06T16:05:10.732102Z",
     "shell.execute_reply": "2022-05-06T16:05:10.731180Z"
    },
    "papermill": {
     "duration": 0.072087,
     "end_time": "2022-05-06T16:05:10.734018",
     "exception": false,
     "start_time": "2022-05-06T16:05:10.661931",
     "status": "completed"
    },
    "tags": []
   },
   "outputs": [
    {
     "data": {
      "text/plain": [
       "shoot player      HomeAway\n",
       "Kyrie Irving      ATL_CLE     51\n",
       "LeBron James      ATL_CLE     48\n",
       "Kyrie Irving      WAS_CLE     47\n",
       "LeBron James      CLE_IND     46\n",
       "                  CLE_CHA     45\n",
       "                              ..\n",
       "Chris Andersen    IND_CLE      1\n",
       "Jordan McRae      CLE_TOR      1\n",
       "DeAndre Liggins   CLE_SAC      1\n",
       "Derrick Williams  CLE_WAS      1\n",
       "Chris Andersen    NYK_CLE      1\n",
       "Name: points, Length: 617, dtype: int64"
      ]
     },
     "execution_count": 18,
     "metadata": {},
     "output_type": "execute_result"
    }
   ],
   "source": [
    "#17\n",
    "cle_vs_others1 = df2.groupby(['shoot player', 'HomeAway']).points.count().sort_values(ascending=False)\n",
    "cle_vs_others1\n"
   ]
  },
  {
   "cell_type": "markdown",
   "id": "e931609a",
   "metadata": {
    "papermill": {
     "duration": 0.05738,
     "end_time": "2022-05-06T16:05:10.850339",
     "exception": false,
     "start_time": "2022-05-06T16:05:10.792959",
     "status": "completed"
    },
    "tags": []
   },
   "source": [
    "Sütunların data type'leri eğer float'sa integer'a, integer ise float'a çevirin. (Orijinal data üstünde yapmayın). Yazdırın."
   ]
  },
  {
   "cell_type": "code",
   "execution_count": 19,
   "id": "c2a9ceac",
   "metadata": {
    "execution": {
     "iopub.execute_input": "2022-05-06T16:05:10.968698Z",
     "iopub.status.busy": "2022-05-06T16:05:10.968155Z",
     "iopub.status.idle": "2022-05-06T16:05:10.994091Z",
     "shell.execute_reply": "2022-05-06T16:05:10.993215Z"
    },
    "papermill": {
     "duration": 0.089103,
     "end_time": "2022-05-06T16:05:10.997450",
     "exception": false,
     "start_time": "2022-05-06T16:05:10.908347",
     "status": "completed"
    },
    "tags": []
   },
   "outputs": [
    {
     "name": "stdout",
     "output_type": "stream",
     "text": [
      "floatlar ve integerların birbirine dönüştüğü dataframe'e ait data tipleri\n",
      " self previous shot         object\n",
      "player position            object\n",
      "home game                  object\n",
      "location x                  int64\n",
      "opponent previous shot     object\n",
      "home team                  object\n",
      "shot type                  object\n",
      "points                    float64\n",
      "away team                  object\n",
      "location y                  int64\n",
      "time                       object\n",
      "date                       object\n",
      "shoot player               object\n",
      "time from last shot         int64\n",
      "quarter                   float64\n",
      "current shot outcome       object\n",
      "My_Team                    object\n",
      "HomeAway                   object\n",
      "points_gained               int64\n",
      "difference                  int64\n",
      "uzaklık                     int64\n",
      "uzaklık_durumu             object\n",
      "dtype: object\n"
     ]
    }
   ],
   "source": [
    "#18\n",
    "#print(\"orjinal data tipleri:\", df.dtypes)\n",
    "type_convert= df.fillna(0)\n",
    "column_dtype = type_convert.astype({\"location x\":'int', \"location y\":'int', \"time from last shot\":'int', \n",
    "                            \"points_gained\":'int', \"difference\":'int',\"points\":'float',\"quarter\":'float',\"uzaklık\":'int'})\n",
    "print(\"floatlar ve integerların birbirine dönüştüğü dataframe'e ait data tipleri\\n\",column_dtype.dtypes)\n"
   ]
  },
  {
   "cell_type": "markdown",
   "id": "ce03c802",
   "metadata": {
    "papermill": {
     "duration": 0.056411,
     "end_time": "2022-05-06T16:05:11.114576",
     "exception": false,
     "start_time": "2022-05-06T16:05:11.058165",
     "status": "completed"
    },
    "tags": []
   },
   "source": [
    "19) Self Previous Shot Sütununda boş veriler var mı? Bu boş veriler doldurulmalı mı? Eğer doldurulmalıysa, fillna() fonksiyonunu kullanarak doldurun.\n",
    "İlki hariç doldurulmalı çünkü ilk atışın bir önceki atışı null olmalı."
   ]
  },
  {
   "cell_type": "code",
   "execution_count": 20,
   "id": "b1073a70",
   "metadata": {
    "execution": {
     "iopub.execute_input": "2022-05-06T16:05:11.231987Z",
     "iopub.status.busy": "2022-05-06T16:05:11.231650Z",
     "iopub.status.idle": "2022-05-06T16:05:11.244142Z",
     "shell.execute_reply": "2022-05-06T16:05:11.243306Z"
    },
    "papermill": {
     "duration": 0.074556,
     "end_time": "2022-05-06T16:05:11.247015",
     "exception": false,
     "start_time": "2022-05-06T16:05:11.172459",
     "status": "completed"
    },
    "tags": []
   },
   "outputs": [
    {
     "name": "stdout",
     "output_type": "stream",
     "text": [
      "0           NaN\n",
      "1             1\n",
      "2        SCORED\n",
      "3        MISSED\n",
      "4        SCORED\n",
      "          ...  \n",
      "13546    MISSED\n",
      "13547    SCORED\n",
      "13548    MISSED\n",
      "13549    SCORED\n",
      "13550    MISSED\n",
      "Name: self previous shot, Length: 13551, dtype: object\n"
     ]
    },
    {
     "name": "stderr",
     "output_type": "stream",
     "text": [
      "/opt/conda/lib/python3.7/site-packages/ipykernel_launcher.py:4: SettingWithCopyWarning: \n",
      "A value is trying to be set on a copy of a slice from a DataFrame\n",
      "\n",
      "See the caveats in the documentation: https://pandas.pydata.org/pandas-docs/stable/user_guide/indexing.html#returning-a-view-versus-a-copy\n",
      "  after removing the cwd from sys.path.\n"
     ]
    }
   ],
   "source": [
    "#19\n",
    "df[pd.isnull(df['self previous shot'])]\n",
    "#print(df['self previous shot'])\n",
    "df['self previous shot'][1:] = df['self previous shot'][1:].fillna(\"1\") \n",
    "#1.den sonra doldurulması gerekir çünkü kendi ilk atışımdan bir önce atışım olamaz. 0. index zaten boş olmalıdır.\n",
    "print(df['self previous shot'])"
   ]
  },
  {
   "cell_type": "markdown",
   "id": "8895c51f",
   "metadata": {
    "papermill": {
     "duration": 0.056363,
     "end_time": "2022-05-06T16:05:11.360941",
     "exception": false,
     "start_time": "2022-05-06T16:05:11.304578",
     "status": "completed"
    },
    "tags": []
   },
   "source": [
    "20) Bütün sütun isimlerini internette sözlük kullanarak türkçeye çevirin, çevirdiğinizi gösterin."
   ]
  },
  {
   "cell_type": "code",
   "execution_count": 21,
   "id": "31eda5bd",
   "metadata": {
    "execution": {
     "iopub.execute_input": "2022-05-06T16:05:11.476450Z",
     "iopub.status.busy": "2022-05-06T16:05:11.475618Z",
     "iopub.status.idle": "2022-05-06T16:05:11.526594Z",
     "shell.execute_reply": "2022-05-06T16:05:11.525705Z"
    },
    "papermill": {
     "duration": 0.111118,
     "end_time": "2022-05-06T16:05:11.528612",
     "exception": false,
     "start_time": "2022-05-06T16:05:11.417494",
     "status": "completed"
    },
    "tags": []
   },
   "outputs": [
    {
     "data": {
      "text/html": [
       "<div>\n",
       "<style scoped>\n",
       "    .dataframe tbody tr th:only-of-type {\n",
       "        vertical-align: middle;\n",
       "    }\n",
       "\n",
       "    .dataframe tbody tr th {\n",
       "        vertical-align: top;\n",
       "    }\n",
       "\n",
       "    .dataframe thead th {\n",
       "        text-align: right;\n",
       "    }\n",
       "</style>\n",
       "<table border=\"1\" class=\"dataframe\">\n",
       "  <thead>\n",
       "    <tr style=\"text-align: right;\">\n",
       "      <th></th>\n",
       "      <th>eski</th>\n",
       "      <th>oyuncu pozisyonu</th>\n",
       "      <th>home game</th>\n",
       "      <th>konum x</th>\n",
       "      <th>rakip önceki atış</th>\n",
       "      <th>ev takımı</th>\n",
       "      <th>şut tipi</th>\n",
       "      <th>puan</th>\n",
       "      <th>deplasman takımı</th>\n",
       "      <th>konum y</th>\n",
       "      <th>...</th>\n",
       "      <th>şut atan oyuncu</th>\n",
       "      <th>son atıştan itibaren geçen süre</th>\n",
       "      <th>çeyrek</th>\n",
       "      <th>mevcut atış çıktısı</th>\n",
       "      <th>benim takımım</th>\n",
       "      <th>ev_deplasman</th>\n",
       "      <th>kazanılan puanlar</th>\n",
       "      <th>fark</th>\n",
       "      <th>uzaklık</th>\n",
       "      <th>uzaklık_durumu</th>\n",
       "    </tr>\n",
       "  </thead>\n",
       "  <tbody>\n",
       "    <tr>\n",
       "      <th>0</th>\n",
       "      <td>NaN</td>\n",
       "      <td>PG</td>\n",
       "      <td>No</td>\n",
       "      <td>881.0</td>\n",
       "      <td>NaN</td>\n",
       "      <td>CLE</td>\n",
       "      <td>Driving Layup</td>\n",
       "      <td>2</td>\n",
       "      <td>NYK</td>\n",
       "      <td>246.0</td>\n",
       "      <td>...</td>\n",
       "      <td>Derrick Rose</td>\n",
       "      <td>NaN</td>\n",
       "      <td>1</td>\n",
       "      <td>SCORED</td>\n",
       "      <td>OPP</td>\n",
       "      <td>CLE_NYK</td>\n",
       "      <td>2.0</td>\n",
       "      <td>0.0</td>\n",
       "      <td>0.763217</td>\n",
       "      <td>yakın</td>\n",
       "    </tr>\n",
       "    <tr>\n",
       "      <th>1</th>\n",
       "      <td>1</td>\n",
       "      <td>PF</td>\n",
       "      <td>Yes</td>\n",
       "      <td>87.0</td>\n",
       "      <td>SCORED</td>\n",
       "      <td>CLE</td>\n",
       "      <td>Hook Shot</td>\n",
       "      <td>2</td>\n",
       "      <td>NYK</td>\n",
       "      <td>239.0</td>\n",
       "      <td>...</td>\n",
       "      <td>Kevin Love</td>\n",
       "      <td>NaN</td>\n",
       "      <td>1</td>\n",
       "      <td>MISSED</td>\n",
       "      <td>CLE</td>\n",
       "      <td>CLE_NYK</td>\n",
       "      <td>0.0</td>\n",
       "      <td>-2.0</td>\n",
       "      <td>3.621119</td>\n",
       "      <td>yakın</td>\n",
       "    </tr>\n",
       "    <tr>\n",
       "      <th>2</th>\n",
       "      <td>SCORED</td>\n",
       "      <td>SF</td>\n",
       "      <td>No</td>\n",
       "      <td>760.0</td>\n",
       "      <td>MISSED</td>\n",
       "      <td>CLE</td>\n",
       "      <td>Jump Shot</td>\n",
       "      <td>2</td>\n",
       "      <td>NYK</td>\n",
       "      <td>102.0</td>\n",
       "      <td>...</td>\n",
       "      <td>Carmelo Anthony</td>\n",
       "      <td>24.0</td>\n",
       "      <td>1</td>\n",
       "      <td>MISSED</td>\n",
       "      <td>OPP</td>\n",
       "      <td>CLE_NYK</td>\n",
       "      <td>0.0</td>\n",
       "      <td>-2.0</td>\n",
       "      <td>19.534649</td>\n",
       "      <td>orta</td>\n",
       "    </tr>\n",
       "    <tr>\n",
       "      <th>3</th>\n",
       "      <td>MISSED</td>\n",
       "      <td>PF</td>\n",
       "      <td>No</td>\n",
       "      <td>890.0</td>\n",
       "      <td>MISSED</td>\n",
       "      <td>CLE</td>\n",
       "      <td>Tip Layup Shot</td>\n",
       "      <td>2</td>\n",
       "      <td>NYK</td>\n",
       "      <td>226.0</td>\n",
       "      <td>...</td>\n",
       "      <td>Kristaps Porzingis</td>\n",
       "      <td>1.0</td>\n",
       "      <td>1</td>\n",
       "      <td>SCORED</td>\n",
       "      <td>OPP</td>\n",
       "      <td>CLE_NYK</td>\n",
       "      <td>2.0</td>\n",
       "      <td>-2.0</td>\n",
       "      <td>2.412986</td>\n",
       "      <td>yakın</td>\n",
       "    </tr>\n",
       "    <tr>\n",
       "      <th>4</th>\n",
       "      <td>SCORED</td>\n",
       "      <td>SF</td>\n",
       "      <td>Yes</td>\n",
       "      <td>52.0</td>\n",
       "      <td>MISSED</td>\n",
       "      <td>CLE</td>\n",
       "      <td>Running Dunk</td>\n",
       "      <td>2</td>\n",
       "      <td>NYK</td>\n",
       "      <td>250.0</td>\n",
       "      <td>...</td>\n",
       "      <td>Richard Jefferson</td>\n",
       "      <td>21.0</td>\n",
       "      <td>1</td>\n",
       "      <td>SCORED</td>\n",
       "      <td>CLE</td>\n",
       "      <td>CLE_NYK</td>\n",
       "      <td>2.0</td>\n",
       "      <td>-4.0</td>\n",
       "      <td>0.050000</td>\n",
       "      <td>yakın</td>\n",
       "    </tr>\n",
       "    <tr>\n",
       "      <th>...</th>\n",
       "      <td>...</td>\n",
       "      <td>...</td>\n",
       "      <td>...</td>\n",
       "      <td>...</td>\n",
       "      <td>...</td>\n",
       "      <td>...</td>\n",
       "      <td>...</td>\n",
       "      <td>...</td>\n",
       "      <td>...</td>\n",
       "      <td>...</td>\n",
       "      <td>...</td>\n",
       "      <td>...</td>\n",
       "      <td>...</td>\n",
       "      <td>...</td>\n",
       "      <td>...</td>\n",
       "      <td>...</td>\n",
       "      <td>...</td>\n",
       "      <td>...</td>\n",
       "      <td>...</td>\n",
       "      <td>...</td>\n",
       "      <td>...</td>\n",
       "    </tr>\n",
       "    <tr>\n",
       "      <th>13546</th>\n",
       "      <td>MISSED</td>\n",
       "      <td>C</td>\n",
       "      <td>Yes</td>\n",
       "      <td>838.0</td>\n",
       "      <td>SCORED</td>\n",
       "      <td>CLE</td>\n",
       "      <td>Hook Shot</td>\n",
       "      <td>2</td>\n",
       "      <td>TOR</td>\n",
       "      <td>270.0</td>\n",
       "      <td>...</td>\n",
       "      <td>Walter Tavares</td>\n",
       "      <td>76.0</td>\n",
       "      <td>4</td>\n",
       "      <td>MISSED</td>\n",
       "      <td>CLE</td>\n",
       "      <td>CLE_TOR</td>\n",
       "      <td>0.0</td>\n",
       "      <td>-22.0</td>\n",
       "      <td>5.338773</td>\n",
       "      <td>yakın</td>\n",
       "    </tr>\n",
       "    <tr>\n",
       "      <th>13547</th>\n",
       "      <td>SCORED</td>\n",
       "      <td>SF</td>\n",
       "      <td>No</td>\n",
       "      <td>87.0</td>\n",
       "      <td>MISSED</td>\n",
       "      <td>CLE</td>\n",
       "      <td>Jump Shot</td>\n",
       "      <td>2</td>\n",
       "      <td>TOR</td>\n",
       "      <td>59.0</td>\n",
       "      <td>...</td>\n",
       "      <td>Bruno Caboclo</td>\n",
       "      <td>25.0</td>\n",
       "      <td>4</td>\n",
       "      <td>SCORED</td>\n",
       "      <td>OPP</td>\n",
       "      <td>CLE_TOR</td>\n",
       "      <td>2.0</td>\n",
       "      <td>-22.0</td>\n",
       "      <td>19.409083</td>\n",
       "      <td>orta</td>\n",
       "    </tr>\n",
       "    <tr>\n",
       "      <th>13548</th>\n",
       "      <td>MISSED</td>\n",
       "      <td>SF</td>\n",
       "      <td>Yes</td>\n",
       "      <td>895.0</td>\n",
       "      <td>SCORED</td>\n",
       "      <td>CLE</td>\n",
       "      <td>Jump Shot</td>\n",
       "      <td>3</td>\n",
       "      <td>TOR</td>\n",
       "      <td>22.0</td>\n",
       "      <td>...</td>\n",
       "      <td>James Jones</td>\n",
       "      <td>33.0</td>\n",
       "      <td>4</td>\n",
       "      <td>MISSED</td>\n",
       "      <td>CLE</td>\n",
       "      <td>CLE_TOR</td>\n",
       "      <td>0.0</td>\n",
       "      <td>-24.0</td>\n",
       "      <td>22.812332</td>\n",
       "      <td>uzak</td>\n",
       "    </tr>\n",
       "    <tr>\n",
       "      <th>13549</th>\n",
       "      <td>SCORED</td>\n",
       "      <td>C</td>\n",
       "      <td>No</td>\n",
       "      <td>298.0</td>\n",
       "      <td>MISSED</td>\n",
       "      <td>CLE</td>\n",
       "      <td>Jump Shot</td>\n",
       "      <td>3</td>\n",
       "      <td>TOR</td>\n",
       "      <td>221.0</td>\n",
       "      <td>...</td>\n",
       "      <td>Lucas Nogueira</td>\n",
       "      <td>41.0</td>\n",
       "      <td>4</td>\n",
       "      <td>MISSED</td>\n",
       "      <td>OPP</td>\n",
       "      <td>CLE_TOR</td>\n",
       "      <td>0.0</td>\n",
       "      <td>-24.0</td>\n",
       "      <td>24.720690</td>\n",
       "      <td>uzak</td>\n",
       "    </tr>\n",
       "    <tr>\n",
       "      <th>13550</th>\n",
       "      <td>MISSED</td>\n",
       "      <td>SF</td>\n",
       "      <td>Yes</td>\n",
       "      <td>887.0</td>\n",
       "      <td>MISSED</td>\n",
       "      <td>CLE</td>\n",
       "      <td>Driving Reverse Layup</td>\n",
       "      <td>2</td>\n",
       "      <td>TOR</td>\n",
       "      <td>262.0</td>\n",
       "      <td>...</td>\n",
       "      <td>James Jones</td>\n",
       "      <td>27.0</td>\n",
       "      <td>4</td>\n",
       "      <td>SCORED</td>\n",
       "      <td>CLE</td>\n",
       "      <td>CLE_TOR</td>\n",
       "      <td>2.0</td>\n",
       "      <td>-24.0</td>\n",
       "      <td>1.201041</td>\n",
       "      <td>yakın</td>\n",
       "    </tr>\n",
       "  </tbody>\n",
       "</table>\n",
       "<p>13551 rows × 22 columns</p>\n",
       "</div>"
      ],
      "text/plain": [
       "         eski oyuncu pozisyonu home game  konum x rakip önceki atış ev takımı  \\\n",
       "0         NaN               PG        No    881.0               NaN       CLE   \n",
       "1           1               PF       Yes     87.0            SCORED       CLE   \n",
       "2      SCORED               SF        No    760.0            MISSED       CLE   \n",
       "3      MISSED               PF        No    890.0            MISSED       CLE   \n",
       "4      SCORED               SF       Yes     52.0            MISSED       CLE   \n",
       "...       ...              ...       ...      ...               ...       ...   \n",
       "13546  MISSED                C       Yes    838.0            SCORED       CLE   \n",
       "13547  SCORED               SF        No     87.0            MISSED       CLE   \n",
       "13548  MISSED               SF       Yes    895.0            SCORED       CLE   \n",
       "13549  SCORED                C        No    298.0            MISSED       CLE   \n",
       "13550  MISSED               SF       Yes    887.0            MISSED       CLE   \n",
       "\n",
       "                    şut tipi  puan deplasman takımı  konum y  ...  \\\n",
       "0              Driving Layup     2              NYK    246.0  ...   \n",
       "1                  Hook Shot     2              NYK    239.0  ...   \n",
       "2                  Jump Shot     2              NYK    102.0  ...   \n",
       "3             Tip Layup Shot     2              NYK    226.0  ...   \n",
       "4               Running Dunk     2              NYK    250.0  ...   \n",
       "...                      ...   ...              ...      ...  ...   \n",
       "13546              Hook Shot     2              TOR    270.0  ...   \n",
       "13547              Jump Shot     2              TOR     59.0  ...   \n",
       "13548              Jump Shot     3              TOR     22.0  ...   \n",
       "13549              Jump Shot     3              TOR    221.0  ...   \n",
       "13550  Driving Reverse Layup     2              TOR    262.0  ...   \n",
       "\n",
       "          şut atan oyuncu son atıştan itibaren geçen süre çeyrek  \\\n",
       "0            Derrick Rose                             NaN      1   \n",
       "1              Kevin Love                             NaN      1   \n",
       "2         Carmelo Anthony                            24.0      1   \n",
       "3      Kristaps Porzingis                             1.0      1   \n",
       "4       Richard Jefferson                            21.0      1   \n",
       "...                   ...                             ...    ...   \n",
       "13546      Walter Tavares                            76.0      4   \n",
       "13547       Bruno Caboclo                            25.0      4   \n",
       "13548         James Jones                            33.0      4   \n",
       "13549      Lucas Nogueira                            41.0      4   \n",
       "13550         James Jones                            27.0      4   \n",
       "\n",
       "       mevcut atış çıktısı  benim takımım ev_deplasman kazanılan puanlar  \\\n",
       "0                   SCORED            OPP      CLE_NYK               2.0   \n",
       "1                   MISSED            CLE      CLE_NYK               0.0   \n",
       "2                   MISSED            OPP      CLE_NYK               0.0   \n",
       "3                   SCORED            OPP      CLE_NYK               2.0   \n",
       "4                   SCORED            CLE      CLE_NYK               2.0   \n",
       "...                    ...            ...          ...               ...   \n",
       "13546               MISSED            CLE      CLE_TOR               0.0   \n",
       "13547               SCORED            OPP      CLE_TOR               2.0   \n",
       "13548               MISSED            CLE      CLE_TOR               0.0   \n",
       "13549               MISSED            OPP      CLE_TOR               0.0   \n",
       "13550               SCORED            CLE      CLE_TOR               2.0   \n",
       "\n",
       "       fark    uzaklık  uzaklık_durumu  \n",
       "0       0.0   0.763217           yakın  \n",
       "1      -2.0   3.621119           yakın  \n",
       "2      -2.0  19.534649            orta  \n",
       "3      -2.0   2.412986           yakın  \n",
       "4      -4.0   0.050000           yakın  \n",
       "...     ...        ...             ...  \n",
       "13546 -22.0   5.338773           yakın  \n",
       "13547 -22.0  19.409083            orta  \n",
       "13548 -24.0  22.812332            uzak  \n",
       "13549 -24.0  24.720690            uzak  \n",
       "13550 -24.0   1.201041           yakın  \n",
       "\n",
       "[13551 rows x 22 columns]"
      ]
     },
     "execution_count": 21,
     "metadata": {},
     "output_type": "execute_result"
    }
   ],
   "source": [
    "df_rnm = df.rename(columns={'self previous shot':'eski','player position':'oyuncu pozisyonu','location x':'konum x'\n",
    "                            ,'opponent previous shot':'rakip önceki atış',\n",
    "                           'home team':'ev takımı','shot type':'şut tipi','points':'puan','away team':'deplasman takımı'\n",
    "                            ,'location y':'konum y','time':'zaman','date':'tarih','shoot player':'şut atan oyuncu',\n",
    "                            'time from last shot':'son atıştan itibaren geçen süre','quarter':'çeyrek'\n",
    "                            ,'current shot outcome':'mevcut atış çıktısı','My_Team':'benim takımım','HomeAway':'ev_deplasman','points_gained':'kazanılan puanlar','difference':'fark'})\n",
    "df_rnm"
   ]
  },
  {
   "cell_type": "markdown",
   "id": "3c6f837a",
   "metadata": {
    "papermill": {
     "duration": 0.062326,
     "end_time": "2022-05-06T16:05:11.764454",
     "exception": false,
     "start_time": "2022-05-06T16:05:11.702128",
     "status": "completed"
    },
    "tags": []
   },
   "source": [
    "22) Test verilerimizi kullanarak, şutun girip girmediğini (scored, missed, blocked) tahmin edeceğimizi varsayarak (current shot outcome), data visualization dersinde öğrendiğimiz bilgileri kullanın. (Regression plot, lmplot, barplot ve diğerleri gibi). Hangi özellikler hedef değişkenle ilintili görünüyor, yorumlayın. (Burada yoğun çaba harcayıp, gözden hiçbir şeyi kaçırmadığınıza emin olun.)\n"
   ]
  },
  {
   "cell_type": "code",
   "execution_count": 22,
   "id": "bb4d2db9",
   "metadata": {
    "execution": {
     "iopub.execute_input": "2022-05-06T16:05:11.882387Z",
     "iopub.status.busy": "2022-05-06T16:05:11.881936Z",
     "iopub.status.idle": "2022-05-06T16:05:13.230302Z",
     "shell.execute_reply": "2022-05-06T16:05:13.229536Z"
    },
    "papermill": {
     "duration": 1.411575,
     "end_time": "2022-05-06T16:05:13.233379",
     "exception": false,
     "start_time": "2022-05-06T16:05:11.821804",
     "status": "completed"
    },
    "tags": []
   },
   "outputs": [
    {
     "name": "stdout",
     "output_type": "stream",
     "text": [
      "AxesSubplot(0.125,0.125;0.775x0.755)\n"
     ]
    },
    {
     "data": {
      "image/png": "[encoded data removed]",
      "text/plain": [
       "<Figure size 432x288 with 1 Axes>"
      ]
     },
     "metadata": {
      "needs_background": "light"
     },
     "output_type": "display_data"
    }
   ],
   "source": [
    "#22 \n",
    "print(sns.scatterplot(x=df['location x'],y=df['location y'],hue=df['current shot outcome'])\n",
    ")"
   ]
  },
  {
   "cell_type": "code",
   "execution_count": 23,
   "id": "ade7d1df",
   "metadata": {
    "execution": {
     "iopub.execute_input": "2022-05-06T16:05:13.362655Z",
     "iopub.status.busy": "2022-05-06T16:05:13.361705Z",
     "iopub.status.idle": "2022-05-06T16:05:14.776110Z",
     "shell.execute_reply": "2022-05-06T16:05:14.775158Z"
    },
    "papermill": {
     "duration": 1.481469,
     "end_time": "2022-05-06T16:05:14.779746",
     "exception": false,
     "start_time": "2022-05-06T16:05:13.298277",
     "status": "completed"
    },
    "tags": []
   },
   "outputs": [
    {
     "name": "stdout",
     "output_type": "stream",
     "text": [
      "AxesSubplot(0.125,0.125;0.775x0.755)\n"
     ]
    },
    {
     "data": {
      "image/png": "[encoded data removed]",
      "text/plain": [
       "<Figure size 432x288 with 1 Axes>"
      ]
     },
     "metadata": {
      "needs_background": "light"
     },
     "output_type": "display_data"
    }
   ],
   "source": [
    "#22 \n",
    "print(sns.scatterplot(x=df['location x'],y=df['location y'],hue=df['player position'])\n",
    ")"
   ]
  },
  {
   "cell_type": "code",
   "execution_count": 24,
   "id": "43ab56e0",
   "metadata": {
    "execution": {
     "iopub.execute_input": "2022-05-06T16:05:14.916562Z",
     "iopub.status.busy": "2022-05-06T16:05:14.915961Z",
     "iopub.status.idle": "2022-05-06T16:05:15.779453Z",
     "shell.execute_reply": "2022-05-06T16:05:15.778229Z"
    },
    "papermill": {
     "duration": 0.93406,
     "end_time": "2022-05-06T16:05:15.781646",
     "exception": false,
     "start_time": "2022-05-06T16:05:14.847586",
     "status": "completed"
    },
    "tags": []
   },
   "outputs": [
    {
     "name": "stdout",
     "output_type": "stream",
     "text": [
      "AxesSubplot(0.125,0.125;0.775x0.755)\n"
     ]
    },
    {
     "data": {
      "image/png": "[encoded data removed]",
      "text/plain": [
       "<Figure size 432x288 with 1 Axes>"
      ]
     },
     "metadata": {
      "needs_background": "light"
     },
     "output_type": "display_data"
    }
   ],
   "source": [
    "#22 \n",
    "print(sns.scatterplot(x=df['uzaklık'],y=df['uzaklık_durumu'],hue=df['current shot outcome'])\n",
    ")"
   ]
  },
  {
   "cell_type": "code",
   "execution_count": 25,
   "id": "ac5bbed6",
   "metadata": {
    "execution": {
     "iopub.execute_input": "2022-05-06T16:05:15.922581Z",
     "iopub.status.busy": "2022-05-06T16:05:15.921740Z",
     "iopub.status.idle": "2022-05-06T16:05:17.448343Z",
     "shell.execute_reply": "2022-05-06T16:05:17.447342Z"
    },
    "papermill": {
     "duration": 1.600001,
     "end_time": "2022-05-06T16:05:17.452216",
     "exception": false,
     "start_time": "2022-05-06T16:05:15.852215",
     "status": "completed"
    },
    "tags": []
   },
   "outputs": [
    {
     "data": {
      "text/plain": [
       "<seaborn.axisgrid.FacetGrid at 0x7f6a51454e50>"
      ]
     },
     "execution_count": 25,
     "metadata": {},
     "output_type": "execute_result"
    },
    {
     "data": {
      "image/png": "[encoded data removed]",
      "text/plain": [
       "<Figure size 475.375x360 with 1 Axes>"
      ]
     },
     "metadata": {
      "needs_background": "light"
     },
     "output_type": "display_data"
    }
   ],
   "source": [
    "#22\n",
    "sns.lmplot(x=\"location x\",y=\"location y\",hue=\"current shot outcome\",data=df)"
   ]
  },
  {
   "cell_type": "code",
   "execution_count": 26,
   "id": "82a22c4c",
   "metadata": {
    "execution": {
     "iopub.execute_input": "2022-05-06T16:05:17.600501Z",
     "iopub.status.busy": "2022-05-06T16:05:17.599956Z",
     "iopub.status.idle": "2022-05-06T16:05:24.454665Z",
     "shell.execute_reply": "2022-05-06T16:05:24.453776Z"
    },
    "papermill": {
     "duration": 6.933296,
     "end_time": "2022-05-06T16:05:24.458712",
     "exception": false,
     "start_time": "2022-05-06T16:05:17.525416",
     "status": "completed"
    },
    "tags": []
   },
   "outputs": [
    {
     "name": "stdout",
     "output_type": "stream",
     "text": [
      "AxesSubplot(0.125,0.125;0.775x0.755)\n"
     ]
    },
    {
     "data": {
      "image/png": "[encoded data removed]",
      "text/plain": [
       "<Figure size 432x288 with 1 Axes>"
      ]
     },
     "metadata": {
      "needs_background": "light"
     },
     "output_type": "display_data"
    }
   ],
   "source": [
    "#22\n",
    "print(sns.scatterplot(x=df['shoot player'],y=df['shot type'],hue=df['current shot outcome'])\n",
    ")"
   ]
  },
  {
   "cell_type": "code",
   "execution_count": 27,
   "id": "b6cd6b7b",
   "metadata": {
    "execution": {
     "iopub.execute_input": "2022-05-06T16:05:24.617604Z",
     "iopub.status.busy": "2022-05-06T16:05:24.617026Z",
     "iopub.status.idle": "2022-05-06T16:05:30.510028Z",
     "shell.execute_reply": "2022-05-06T16:05:30.509131Z"
    },
    "papermill": {
     "duration": 5.975128,
     "end_time": "2022-05-06T16:05:30.512481",
     "exception": false,
     "start_time": "2022-05-06T16:05:24.537353",
     "status": "completed"
    },
    "tags": []
   },
   "outputs": [
    {
     "name": "stdout",
     "output_type": "stream",
     "text": [
      "AxesSubplot(0.125,0.125;0.775x0.755)\n"
     ]
    },
    {
     "data": {
      "image/png": "[encoded data removed]",
      "text/plain": [
       "<Figure size 432x288 with 1 Axes>"
      ]
     },
     "metadata": {
      "needs_background": "light"
     },
     "output_type": "display_data"
    }
   ],
   "source": [
    "#22\n",
    "print(sns.scatterplot(x=df['shoot player'],y=df['uzaklık_durumu'],hue=df['current shot outcome'])\n",
    ")"
   ]
  },
  {
   "cell_type": "code",
   "execution_count": 28,
   "id": "518ba258",
   "metadata": {
    "execution": {
     "iopub.execute_input": "2022-05-06T16:05:30.711983Z",
     "iopub.status.busy": "2022-05-06T16:05:30.711403Z",
     "iopub.status.idle": "2022-05-06T16:05:31.986996Z",
     "shell.execute_reply": "2022-05-06T16:05:31.986283Z"
    },
    "papermill": {
     "duration": 1.393373,
     "end_time": "2022-05-06T16:05:31.989003",
     "exception": false,
     "start_time": "2022-05-06T16:05:30.595630",
     "status": "completed"
    },
    "tags": []
   },
   "outputs": [
    {
     "name": "stdout",
     "output_type": "stream",
     "text": [
      "AxesSubplot(0.125,0.125;0.775x0.755)\n"
     ]
    },
    {
     "data": {
      "image/png": "[encoded data removed]",
      "text/plain": [
       "<Figure size 432x288 with 1 Axes>"
      ]
     },
     "metadata": {
      "needs_background": "light"
     },
     "output_type": "display_data"
    }
   ],
   "source": [
    "#22\n",
    "print(sns.scatterplot(x=df['uzaklık_durumu'],y=df['player position'],hue=df['current shot outcome'])\n",
    ")"
   ]
  },
  {
   "cell_type": "code",
   "execution_count": 29,
   "id": "d1dc8514",
   "metadata": {
    "execution": {
     "iopub.execute_input": "2022-05-06T16:05:32.155036Z",
     "iopub.status.busy": "2022-05-06T16:05:32.154325Z",
     "iopub.status.idle": "2022-05-06T16:05:32.554889Z",
     "shell.execute_reply": "2022-05-06T16:05:32.553789Z"
    },
    "papermill": {
     "duration": 0.486979,
     "end_time": "2022-05-06T16:05:32.557104",
     "exception": false,
     "start_time": "2022-05-06T16:05:32.070125",
     "status": "completed"
    },
    "tags": []
   },
   "outputs": [
    {
     "data": {
      "text/plain": [
       "<AxesSubplot:xlabel='current shot outcome', ylabel='uzaklık'>"
      ]
     },
     "execution_count": 29,
     "metadata": {},
     "output_type": "execute_result"
    },
    {
     "data": {
      "image/png": "[encoded data removed]",
      "text/plain": [
       "<Figure size 432x288 with 1 Axes>"
      ]
     },
     "metadata": {
      "needs_background": "light"
     },
     "output_type": "display_data"
    }
   ],
   "source": [
    "#22\n",
    "sns.barplot(x=df['current shot outcome'], y=df['uzaklık'])"
   ]
  },
  {
   "cell_type": "code",
   "execution_count": 30,
   "id": "1263dc57",
   "metadata": {
    "execution": {
     "iopub.execute_input": "2022-05-06T16:05:32.728432Z",
     "iopub.status.busy": "2022-05-06T16:05:32.727871Z",
     "iopub.status.idle": "2022-05-06T16:05:33.331364Z",
     "shell.execute_reply": "2022-05-06T16:05:33.330674Z"
    },
    "papermill": {
     "duration": 0.689722,
     "end_time": "2022-05-06T16:05:33.333634",
     "exception": false,
     "start_time": "2022-05-06T16:05:32.643912",
     "status": "completed"
    },
    "tags": []
   },
   "outputs": [
    {
     "data": {
      "text/plain": [
       "<matplotlib.legend.Legend at 0x7f6a508c7750>"
      ]
     },
     "execution_count": 30,
     "metadata": {},
     "output_type": "execute_result"
    },
    {
     "data": {
      "image/png": "[encoded data removed]",
      "text/plain": [
       "<Figure size 432x288 with 1 Axes>"
      ]
     },
     "metadata": {
      "needs_background": "light"
     },
     "output_type": "display_data"
    }
   ],
   "source": [
    "#22\n",
    "sns.kdeplot(data=df[\"points_gained\"],label=\"points gained\", shade=True)\n",
    "sns.kdeplot(data=df[\"points\"],label=\"points\", shade=True)\n",
    "plt.legend()"
   ]
  },
  {
   "cell_type": "markdown",
   "id": "45837474",
   "metadata": {
    "papermill": {
     "duration": 0.08573,
     "end_time": "2022-05-06T16:05:33.506797",
     "exception": false,
     "start_time": "2022-05-06T16:05:33.421067",
     "status": "completed"
    },
    "tags": []
   },
   "source": [
    "23) Datamızı derste ayırdığımız gibi, train validasyon olarak ikiye ayıralım. İlintili feature seçimlerimizi de yapalım. \n"
   ]
  },
  {
   "cell_type": "code",
   "execution_count": 31,
   "id": "416d1c66",
   "metadata": {
    "execution": {
     "iopub.execute_input": "2022-05-06T16:05:33.676989Z",
     "iopub.status.busy": "2022-05-06T16:05:33.676392Z",
     "iopub.status.idle": "2022-05-06T16:05:33.940105Z",
     "shell.execute_reply": "2022-05-06T16:05:33.939079Z"
    },
    "papermill": {
     "duration": 0.351852,
     "end_time": "2022-05-06T16:05:33.942348",
     "exception": false,
     "start_time": "2022-05-06T16:05:33.590496",
     "status": "completed"
    },
    "tags": []
   },
   "outputs": [
    {
     "name": "stdout",
     "output_type": "stream",
     "text": [
      "Index(['self previous shot', 'player position', 'home game',\n",
      "       'opponent previous shot', 'home team', 'shot type', 'away team', 'time',\n",
      "       'date', 'shoot player', 'current shot outcome', 'My_Team', 'HomeAway',\n",
      "       'uzaklık_durumu'],\n",
      "      dtype='object')\n"
     ]
    },
    {
     "data": {
      "text/html": [
       "<div>\n",
       "<style scoped>\n",
       "    .dataframe tbody tr th:only-of-type {\n",
       "        vertical-align: middle;\n",
       "    }\n",
       "\n",
       "    .dataframe tbody tr th {\n",
       "        vertical-align: top;\n",
       "    }\n",
       "\n",
       "    .dataframe thead th {\n",
       "        text-align: right;\n",
       "    }\n",
       "</style>\n",
       "<table border=\"1\" class=\"dataframe\">\n",
       "  <thead>\n",
       "    <tr style=\"text-align: right;\">\n",
       "      <th></th>\n",
       "      <th>self previous shot</th>\n",
       "      <th>player position</th>\n",
       "      <th>home game</th>\n",
       "      <th>location x</th>\n",
       "      <th>opponent previous shot</th>\n",
       "      <th>home team</th>\n",
       "      <th>shot type</th>\n",
       "      <th>points</th>\n",
       "      <th>away team</th>\n",
       "      <th>location y</th>\n",
       "      <th>...</th>\n",
       "      <th>shoot player</th>\n",
       "      <th>time from last shot</th>\n",
       "      <th>quarter</th>\n",
       "      <th>current shot outcome</th>\n",
       "      <th>My_Team</th>\n",
       "      <th>HomeAway</th>\n",
       "      <th>points_gained</th>\n",
       "      <th>difference</th>\n",
       "      <th>uzaklık</th>\n",
       "      <th>uzaklık_durumu</th>\n",
       "    </tr>\n",
       "  </thead>\n",
       "  <tbody>\n",
       "    <tr>\n",
       "      <th>0</th>\n",
       "      <td>0</td>\n",
       "      <td>4</td>\n",
       "      <td>0</td>\n",
       "      <td>881.0</td>\n",
       "      <td>0</td>\n",
       "      <td>5</td>\n",
       "      <td>12</td>\n",
       "      <td>2</td>\n",
       "      <td>18</td>\n",
       "      <td>246.0</td>\n",
       "      <td>...</td>\n",
       "      <td>87</td>\n",
       "      <td>0.0</td>\n",
       "      <td>1</td>\n",
       "      <td>2</td>\n",
       "      <td>1</td>\n",
       "      <td>22</td>\n",
       "      <td>2.0</td>\n",
       "      <td>0.0</td>\n",
       "      <td>0.763217</td>\n",
       "      <td>3</td>\n",
       "    </tr>\n",
       "    <tr>\n",
       "      <th>1</th>\n",
       "      <td>1</td>\n",
       "      <td>3</td>\n",
       "      <td>1</td>\n",
       "      <td>87.0</td>\n",
       "      <td>3</td>\n",
       "      <td>5</td>\n",
       "      <td>21</td>\n",
       "      <td>2</td>\n",
       "      <td>18</td>\n",
       "      <td>239.0</td>\n",
       "      <td>...</td>\n",
       "      <td>201</td>\n",
       "      <td>0.0</td>\n",
       "      <td>1</td>\n",
       "      <td>1</td>\n",
       "      <td>0</td>\n",
       "      <td>22</td>\n",
       "      <td>0.0</td>\n",
       "      <td>-2.0</td>\n",
       "      <td>3.621119</td>\n",
       "      <td>3</td>\n",
       "    </tr>\n",
       "    <tr>\n",
       "      <th>2</th>\n",
       "      <td>4</td>\n",
       "      <td>5</td>\n",
       "      <td>0</td>\n",
       "      <td>760.0</td>\n",
       "      <td>2</td>\n",
       "      <td>5</td>\n",
       "      <td>23</td>\n",
       "      <td>2</td>\n",
       "      <td>18</td>\n",
       "      <td>102.0</td>\n",
       "      <td>...</td>\n",
       "      <td>49</td>\n",
       "      <td>24.0</td>\n",
       "      <td>1</td>\n",
       "      <td>1</td>\n",
       "      <td>1</td>\n",
       "      <td>22</td>\n",
       "      <td>0.0</td>\n",
       "      <td>-2.0</td>\n",
       "      <td>19.534649</td>\n",
       "      <td>0</td>\n",
       "    </tr>\n",
       "    <tr>\n",
       "      <th>3</th>\n",
       "      <td>3</td>\n",
       "      <td>3</td>\n",
       "      <td>0</td>\n",
       "      <td>890.0</td>\n",
       "      <td>2</td>\n",
       "      <td>5</td>\n",
       "      <td>44</td>\n",
       "      <td>2</td>\n",
       "      <td>18</td>\n",
       "      <td>226.0</td>\n",
       "      <td>...</td>\n",
       "      <td>208</td>\n",
       "      <td>1.0</td>\n",
       "      <td>1</td>\n",
       "      <td>2</td>\n",
       "      <td>1</td>\n",
       "      <td>22</td>\n",
       "      <td>2.0</td>\n",
       "      <td>-2.0</td>\n",
       "      <td>2.412986</td>\n",
       "      <td>3</td>\n",
       "    </tr>\n",
       "    <tr>\n",
       "      <th>4</th>\n",
       "      <td>4</td>\n",
       "      <td>5</td>\n",
       "      <td>1</td>\n",
       "      <td>52.0</td>\n",
       "      <td>2</td>\n",
       "      <td>5</td>\n",
       "      <td>33</td>\n",
       "      <td>2</td>\n",
       "      <td>18</td>\n",
       "      <td>250.0</td>\n",
       "      <td>...</td>\n",
       "      <td>295</td>\n",
       "      <td>21.0</td>\n",
       "      <td>1</td>\n",
       "      <td>2</td>\n",
       "      <td>0</td>\n",
       "      <td>22</td>\n",
       "      <td>2.0</td>\n",
       "      <td>-4.0</td>\n",
       "      <td>0.050000</td>\n",
       "      <td>3</td>\n",
       "    </tr>\n",
       "    <tr>\n",
       "      <th>...</th>\n",
       "      <td>...</td>\n",
       "      <td>...</td>\n",
       "      <td>...</td>\n",
       "      <td>...</td>\n",
       "      <td>...</td>\n",
       "      <td>...</td>\n",
       "      <td>...</td>\n",
       "      <td>...</td>\n",
       "      <td>...</td>\n",
       "      <td>...</td>\n",
       "      <td>...</td>\n",
       "      <td>...</td>\n",
       "      <td>...</td>\n",
       "      <td>...</td>\n",
       "      <td>...</td>\n",
       "      <td>...</td>\n",
       "      <td>...</td>\n",
       "      <td>...</td>\n",
       "      <td>...</td>\n",
       "      <td>...</td>\n",
       "      <td>...</td>\n",
       "    </tr>\n",
       "    <tr>\n",
       "      <th>13546</th>\n",
       "      <td>3</td>\n",
       "      <td>0</td>\n",
       "      <td>1</td>\n",
       "      <td>838.0</td>\n",
       "      <td>3</td>\n",
       "      <td>5</td>\n",
       "      <td>21</td>\n",
       "      <td>2</td>\n",
       "      <td>26</td>\n",
       "      <td>270.0</td>\n",
       "      <td>...</td>\n",
       "      <td>368</td>\n",
       "      <td>76.0</td>\n",
       "      <td>4</td>\n",
       "      <td>1</td>\n",
       "      <td>0</td>\n",
       "      <td>30</td>\n",
       "      <td>0.0</td>\n",
       "      <td>-22.0</td>\n",
       "      <td>5.338773</td>\n",
       "      <td>3</td>\n",
       "    </tr>\n",
       "    <tr>\n",
       "      <th>13547</th>\n",
       "      <td>4</td>\n",
       "      <td>5</td>\n",
       "      <td>0</td>\n",
       "      <td>87.0</td>\n",
       "      <td>2</td>\n",
       "      <td>5</td>\n",
       "      <td>23</td>\n",
       "      <td>2</td>\n",
       "      <td>26</td>\n",
       "      <td>59.0</td>\n",
       "      <td>...</td>\n",
       "      <td>40</td>\n",
       "      <td>25.0</td>\n",
       "      <td>4</td>\n",
       "      <td>2</td>\n",
       "      <td>1</td>\n",
       "      <td>30</td>\n",
       "      <td>2.0</td>\n",
       "      <td>-22.0</td>\n",
       "      <td>19.409083</td>\n",
       "      <td>0</td>\n",
       "    </tr>\n",
       "    <tr>\n",
       "      <th>13548</th>\n",
       "      <td>3</td>\n",
       "      <td>5</td>\n",
       "      <td>1</td>\n",
       "      <td>895.0</td>\n",
       "      <td>3</td>\n",
       "      <td>5</td>\n",
       "      <td>23</td>\n",
       "      <td>3</td>\n",
       "      <td>26</td>\n",
       "      <td>22.0</td>\n",
       "      <td>...</td>\n",
       "      <td>150</td>\n",
       "      <td>33.0</td>\n",
       "      <td>4</td>\n",
       "      <td>1</td>\n",
       "      <td>0</td>\n",
       "      <td>30</td>\n",
       "      <td>0.0</td>\n",
       "      <td>-24.0</td>\n",
       "      <td>22.812332</td>\n",
       "      <td>2</td>\n",
       "    </tr>\n",
       "    <tr>\n",
       "      <th>13549</th>\n",
       "      <td>4</td>\n",
       "      <td>0</td>\n",
       "      <td>0</td>\n",
       "      <td>298.0</td>\n",
       "      <td>2</td>\n",
       "      <td>5</td>\n",
       "      <td>23</td>\n",
       "      <td>3</td>\n",
       "      <td>26</td>\n",
       "      <td>221.0</td>\n",
       "      <td>...</td>\n",
       "      <td>225</td>\n",
       "      <td>41.0</td>\n",
       "      <td>4</td>\n",
       "      <td>1</td>\n",
       "      <td>1</td>\n",
       "      <td>30</td>\n",
       "      <td>0.0</td>\n",
       "      <td>-24.0</td>\n",
       "      <td>24.720690</td>\n",
       "      <td>2</td>\n",
       "    </tr>\n",
       "    <tr>\n",
       "      <th>13550</th>\n",
       "      <td>3</td>\n",
       "      <td>5</td>\n",
       "      <td>1</td>\n",
       "      <td>887.0</td>\n",
       "      <td>2</td>\n",
       "      <td>5</td>\n",
       "      <td>14</td>\n",
       "      <td>2</td>\n",
       "      <td>26</td>\n",
       "      <td>262.0</td>\n",
       "      <td>...</td>\n",
       "      <td>150</td>\n",
       "      <td>27.0</td>\n",
       "      <td>4</td>\n",
       "      <td>2</td>\n",
       "      <td>0</td>\n",
       "      <td>30</td>\n",
       "      <td>2.0</td>\n",
       "      <td>-24.0</td>\n",
       "      <td>1.201041</td>\n",
       "      <td>3</td>\n",
       "    </tr>\n",
       "  </tbody>\n",
       "</table>\n",
       "<p>13551 rows × 22 columns</p>\n",
       "</div>"
      ],
      "text/plain": [
       "       self previous shot  player position  home game  location x  \\\n",
       "0                       0                4          0       881.0   \n",
       "1                       1                3          1        87.0   \n",
       "2                       4                5          0       760.0   \n",
       "3                       3                3          0       890.0   \n",
       "4                       4                5          1        52.0   \n",
       "...                   ...              ...        ...         ...   \n",
       "13546                   3                0          1       838.0   \n",
       "13547                   4                5          0        87.0   \n",
       "13548                   3                5          1       895.0   \n",
       "13549                   4                0          0       298.0   \n",
       "13550                   3                5          1       887.0   \n",
       "\n",
       "       opponent previous shot  home team  shot type  points  away team  \\\n",
       "0                           0          5         12       2         18   \n",
       "1                           3          5         21       2         18   \n",
       "2                           2          5         23       2         18   \n",
       "3                           2          5         44       2         18   \n",
       "4                           2          5         33       2         18   \n",
       "...                       ...        ...        ...     ...        ...   \n",
       "13546                       3          5         21       2         26   \n",
       "13547                       2          5         23       2         26   \n",
       "13548                       3          5         23       3         26   \n",
       "13549                       2          5         23       3         26   \n",
       "13550                       2          5         14       2         26   \n",
       "\n",
       "       location y  ...  shoot player  time from last shot  quarter  \\\n",
       "0           246.0  ...            87                  0.0        1   \n",
       "1           239.0  ...           201                  0.0        1   \n",
       "2           102.0  ...            49                 24.0        1   \n",
       "3           226.0  ...           208                  1.0        1   \n",
       "4           250.0  ...           295                 21.0        1   \n",
       "...           ...  ...           ...                  ...      ...   \n",
       "13546       270.0  ...           368                 76.0        4   \n",
       "13547        59.0  ...            40                 25.0        4   \n",
       "13548        22.0  ...           150                 33.0        4   \n",
       "13549       221.0  ...           225                 41.0        4   \n",
       "13550       262.0  ...           150                 27.0        4   \n",
       "\n",
       "       current shot outcome  My_Team  HomeAway  points_gained  difference  \\\n",
       "0                         2        1        22            2.0         0.0   \n",
       "1                         1        0        22            0.0        -2.0   \n",
       "2                         1        1        22            0.0        -2.0   \n",
       "3                         2        1        22            2.0        -2.0   \n",
       "4                         2        0        22            2.0        -4.0   \n",
       "...                     ...      ...       ...            ...         ...   \n",
       "13546                     1        0        30            0.0       -22.0   \n",
       "13547                     2        1        30            2.0       -22.0   \n",
       "13548                     1        0        30            0.0       -24.0   \n",
       "13549                     1        1        30            0.0       -24.0   \n",
       "13550                     2        0        30            2.0       -24.0   \n",
       "\n",
       "         uzaklık  uzaklık_durumu  \n",
       "0       0.763217               3  \n",
       "1       3.621119               3  \n",
       "2      19.534649               0  \n",
       "3       2.412986               3  \n",
       "4       0.050000               3  \n",
       "...          ...             ...  \n",
       "13546   5.338773               3  \n",
       "13547  19.409083               0  \n",
       "13548  22.812332               2  \n",
       "13549  24.720690               2  \n",
       "13550   1.201041               3  \n",
       "\n",
       "[13551 rows x 22 columns]"
      ]
     },
     "execution_count": 31,
     "metadata": {},
     "output_type": "execute_result"
    }
   ],
   "source": [
    "#fill NAs\n",
    "#numeric değerlere çevirerek sütunları dahil etmek için bu kodu kullandım. \n",
    "df=df.fillna(0)\n",
    "\n",
    "from sklearn.preprocessing import LabelEncoder\n",
    "def LABEL_Encoding(data):\n",
    "    objList = data.select_dtypes(include = \"object\").columns\n",
    "    print (objList)\n",
    "    le = LabelEncoder()\n",
    "    for feat in objList:\n",
    "        data[feat] = le.fit_transform(data[feat].astype(str))\n",
    "      \n",
    "    return data\n",
    "\n",
    "LABEL_Encoding(df)"
   ]
  },
  {
   "cell_type": "code",
   "execution_count": 32,
   "id": "0a860ba2",
   "metadata": {
    "execution": {
     "iopub.execute_input": "2022-05-06T16:05:34.115590Z",
     "iopub.status.busy": "2022-05-06T16:05:34.115292Z",
     "iopub.status.idle": "2022-05-06T16:05:34.125606Z",
     "shell.execute_reply": "2022-05-06T16:05:34.124897Z"
    },
    "papermill": {
     "duration": 0.099511,
     "end_time": "2022-05-06T16:05:34.127510",
     "exception": false,
     "start_time": "2022-05-06T16:05:34.027999",
     "status": "completed"
    },
    "tags": []
   },
   "outputs": [
    {
     "data": {
      "text/plain": [
       "0    2\n",
       "1    1\n",
       "2    1\n",
       "3    2\n",
       "4    2\n",
       "5    1\n",
       "6    1\n",
       "7    0\n",
       "8    2\n",
       "9    1\n",
       "Name: current shot outcome, dtype: int64"
      ]
     },
     "execution_count": 32,
     "metadata": {},
     "output_type": "execute_result"
    }
   ],
   "source": [
    "#23\n",
    "y=df['current shot outcome'] #tahmin etmek istediğimiz değer\n",
    "X = df.drop(columns=['current shot outcome','points_gained','difference','self previous shot','opponent previous shot'])\n",
    "y.head(10)"
   ]
  },
  {
   "cell_type": "code",
   "execution_count": 33,
   "id": "ded34227",
   "metadata": {
    "execution": {
     "iopub.execute_input": "2022-05-06T16:05:34.301606Z",
     "iopub.status.busy": "2022-05-06T16:05:34.301206Z",
     "iopub.status.idle": "2022-05-06T16:05:34.675456Z",
     "shell.execute_reply": "2022-05-06T16:05:34.674626Z"
    },
    "papermill": {
     "duration": 0.462375,
     "end_time": "2022-05-06T16:05:34.677955",
     "exception": false,
     "start_time": "2022-05-06T16:05:34.215580",
     "status": "completed"
    },
    "tags": []
   },
   "outputs": [],
   "source": [
    "#23\n",
    "from sklearn.tree import DecisionTreeClassifier\n",
    "from sklearn.model_selection import train_test_split \n",
    "from sklearn import metrics #accuracy hesaplamak için\n",
    "\n",
    "X_train, X_test, y_train, y_test = train_test_split(X, y,test_size=0.25)\n",
    "\n",
    "# Create Decision Tree classifer object\n",
    "clf = DecisionTreeClassifier()\n",
    "\n",
    "# Train Decision Tree Classifer\n",
    "clf = clf.fit(X_train,y_train)"
   ]
  },
  {
   "cell_type": "markdown",
   "id": "cd0e8c9a",
   "metadata": {
    "papermill": {
     "duration": 0.083906,
     "end_time": "2022-05-06T16:05:34.849622",
     "exception": false,
     "start_time": "2022-05-06T16:05:34.765716",
     "status": "completed"
    },
    "tags": []
   },
   "source": [
    "24) DecisionTree ile sonuçlar elde edin ve Mean absolute value'nüzü bulun."
   ]
  },
  {
   "cell_type": "code",
   "execution_count": 34,
   "id": "3c1ca466",
   "metadata": {
    "execution": {
     "iopub.execute_input": "2022-05-06T16:05:35.021386Z",
     "iopub.status.busy": "2022-05-06T16:05:35.020631Z",
     "iopub.status.idle": "2022-05-06T16:05:35.030103Z",
     "shell.execute_reply": "2022-05-06T16:05:35.029312Z"
    },
    "papermill": {
     "duration": 0.097615,
     "end_time": "2022-05-06T16:05:35.032011",
     "exception": false,
     "start_time": "2022-05-06T16:05:34.934396",
     "status": "completed"
    },
    "tags": []
   },
   "outputs": [
    {
     "data": {
      "text/plain": [
       "array([1, 1, 2, ..., 1, 1, 1])"
      ]
     },
     "execution_count": 34,
     "metadata": {},
     "output_type": "execute_result"
    }
   ],
   "source": [
    "clf.predict(X_test)"
   ]
  },
  {
   "cell_type": "code",
   "execution_count": 35,
   "id": "aefc836b",
   "metadata": {
    "execution": {
     "iopub.execute_input": "2022-05-06T16:05:35.205890Z",
     "iopub.status.busy": "2022-05-06T16:05:35.205428Z",
     "iopub.status.idle": "2022-05-06T16:05:35.212890Z",
     "shell.execute_reply": "2022-05-06T16:05:35.212064Z"
    },
    "papermill": {
     "duration": 0.096613,
     "end_time": "2022-05-06T16:05:35.215020",
     "exception": false,
     "start_time": "2022-05-06T16:05:35.118407",
     "status": "completed"
    },
    "tags": []
   },
   "outputs": [],
   "source": [
    "y_pred = clf.predict(X_test)"
   ]
  },
  {
   "cell_type": "code",
   "execution_count": 36,
   "id": "e012c045",
   "metadata": {
    "execution": {
     "iopub.execute_input": "2022-05-06T16:05:35.390672Z",
     "iopub.status.busy": "2022-05-06T16:05:35.390387Z",
     "iopub.status.idle": "2022-05-06T16:05:35.396782Z",
     "shell.execute_reply": "2022-05-06T16:05:35.395968Z"
    },
    "papermill": {
     "duration": 0.097511,
     "end_time": "2022-05-06T16:05:35.399639",
     "exception": false,
     "start_time": "2022-05-06T16:05:35.302128",
     "status": "completed"
    },
    "tags": []
   },
   "outputs": [
    {
     "name": "stdout",
     "output_type": "stream",
     "text": [
      "Accuracy: 0.5342384887839433\n"
     ]
    }
   ],
   "source": [
    "print(\"Accuracy:\",metrics.accuracy_score(y_test, y_pred))"
   ]
  },
  {
   "cell_type": "code",
   "execution_count": 37,
   "id": "9d170c9a",
   "metadata": {
    "execution": {
     "iopub.execute_input": "2022-05-06T16:05:35.574391Z",
     "iopub.status.busy": "2022-05-06T16:05:35.574102Z",
     "iopub.status.idle": "2022-05-06T16:05:35.580193Z",
     "shell.execute_reply": "2022-05-06T16:05:35.579171Z"
    },
    "papermill": {
     "duration": 0.096015,
     "end_time": "2022-05-06T16:05:35.582667",
     "exception": false,
     "start_time": "2022-05-06T16:05:35.486652",
     "status": "completed"
    },
    "tags": []
   },
   "outputs": [
    {
     "name": "stdout",
     "output_type": "stream",
     "text": [
      "[1 1 2 2 1]\n",
      "5298     2\n",
      "362      1\n",
      "5483     2\n",
      "10576    0\n",
      "573      2\n",
      "Name: current shot outcome, dtype: int64\n"
     ]
    }
   ],
   "source": [
    "print(y_pred[0:5])\n",
    "print(y_test.head())"
   ]
  },
  {
   "cell_type": "markdown",
   "id": "2463b8e0",
   "metadata": {
    "papermill": {
     "duration": 0.093254,
     "end_time": "2022-05-06T16:05:35.764412",
     "exception": false,
     "start_time": "2022-05-06T16:05:35.671158",
     "status": "completed"
    },
    "tags": []
   },
   "source": [
    "25) DecisionTree'nizde maksimum yaprak nodlarını(maximum_leaf_nodes) tanımlayarak, modelinizin en iyi sonuç verdiği max_leaf_nodes'i seçin. Sonrasında ona göre bir mean absolute error value'sünü bulun. Bunu neden yaptığımızı detaylı bir şekilde açıklayın."
   ]
  },
  {
   "cell_type": "code",
   "execution_count": 38,
   "id": "de9e702f",
   "metadata": {
    "execution": {
     "iopub.execute_input": "2022-05-06T16:05:35.939450Z",
     "iopub.status.busy": "2022-05-06T16:05:35.938422Z",
     "iopub.status.idle": "2022-05-06T16:05:35.944636Z",
     "shell.execute_reply": "2022-05-06T16:05:35.943762Z"
    },
    "papermill": {
     "duration": 0.0954,
     "end_time": "2022-05-06T16:05:35.946755",
     "exception": false,
     "start_time": "2022-05-06T16:05:35.851355",
     "status": "completed"
    },
    "tags": []
   },
   "outputs": [],
   "source": [
    "#25\n",
    "from sklearn.tree import DecisionTreeRegressor\n",
    "#ağaçta ne kadar bölünme olmalı,train ve validasyon datalarını alır.\n",
    "def get_mae(max_leaf_nodes, X_train, X_test, y_train, y_test):\n",
    "    my_model = DecisionTreeRegressor(max_leaf_nodes = max_leaf_nodes, random_state=1)\n",
    "    my_model.fit(X_train, y_train)\n",
    "    preds_val = my_model.predict(X_test)\n",
    "    mae = mean_absolute_error(y_test, preds_val)\n",
    "    return(mae)\n"
   ]
  },
  {
   "cell_type": "markdown",
   "id": "1aaea6c9",
   "metadata": {
    "papermill": {
     "duration": 0.08751,
     "end_time": "2022-05-06T16:05:36.122143",
     "exception": false,
     "start_time": "2022-05-06T16:05:36.034633",
     "status": "completed"
    },
    "tags": []
   },
   "source": [
    "#modeli oluştururken ağacın toplam yaprak büyüklğünü eşitleyip modelin çok oynamaması için sabit kalması için random state belirlenir. (biz 1 olarak belirledik.) train x ve y göre modeli oluşturuyoruz testx verilerine göre tahminler yapıyoruz. daha sonra mae bir değişkene ekleyip return ediyoruz\n",
    "doğru yaprak sayısını bilemeyeceğimiz için fonksiyon yazmayı tercih ettim. aynı zamanda buna dair denemeler de yaptım.\n",
    "böylece ağacı underfitting ve overfittingden önlemiş oluruz."
   ]
  },
  {
   "cell_type": "code",
   "execution_count": 39,
   "id": "bb4b2d3c",
   "metadata": {
    "execution": {
     "iopub.execute_input": "2022-05-06T16:05:36.301720Z",
     "iopub.status.busy": "2022-05-06T16:05:36.301236Z",
     "iopub.status.idle": "2022-05-06T16:05:36.441730Z",
     "shell.execute_reply": "2022-05-06T16:05:36.440445Z"
    },
    "papermill": {
     "duration": 0.233547,
     "end_time": "2022-05-06T16:05:36.443675",
     "exception": true,
     "start_time": "2022-05-06T16:05:36.210128",
     "status": "failed"
    },
    "tags": []
   },
   "outputs": [
    {
     "ename": "NameError",
     "evalue": "name 'mean_absolute_error' is not defined",
     "output_type": "error",
     "traceback": [
      "\u001b[0;31m---------------------------------------------------------------------------\u001b[0m",
      "\u001b[0;31mNameError\u001b[0m                                 Traceback (most recent call last)",
      "\u001b[0;32m/tmp/ipykernel_19/4059598325.py\u001b[0m in \u001b[0;36m<module>\u001b[0;34m\u001b[0m\n\u001b[1;32m      2\u001b[0m \u001b[0mmax_leaf_nodes\u001b[0m \u001b[0;34m=\u001b[0m \u001b[0;34m[\u001b[0m\u001b[0;36m5\u001b[0m\u001b[0;34m,\u001b[0m\u001b[0;36m25\u001b[0m\u001b[0;34m,\u001b[0m\u001b[0;36m50\u001b[0m\u001b[0;34m,\u001b[0m\u001b[0;36m100\u001b[0m\u001b[0;34m,\u001b[0m\u001b[0;36m250\u001b[0m\u001b[0;34m,\u001b[0m\u001b[0;36m500\u001b[0m\u001b[0;34m]\u001b[0m\u001b[0;34m\u001b[0m\u001b[0;34m\u001b[0m\u001b[0m\n\u001b[1;32m      3\u001b[0m \u001b[0;32mfor\u001b[0m \u001b[0mi\u001b[0m \u001b[0;32min\u001b[0m \u001b[0mmax_leaf_nodes\u001b[0m\u001b[0;34m:\u001b[0m\u001b[0;34m\u001b[0m\u001b[0;34m\u001b[0m\u001b[0m\n\u001b[0;32m----> 4\u001b[0;31m     \u001b[0mscores\u001b[0m\u001b[0;34m.\u001b[0m\u001b[0mappend\u001b[0m\u001b[0;34m(\u001b[0m\u001b[0mget_mae\u001b[0m\u001b[0;34m(\u001b[0m\u001b[0mi\u001b[0m\u001b[0;34m,\u001b[0m \u001b[0mX_train\u001b[0m\u001b[0;34m,\u001b[0m \u001b[0mX_test\u001b[0m\u001b[0;34m,\u001b[0m \u001b[0my_train\u001b[0m\u001b[0;34m,\u001b[0m \u001b[0my_test\u001b[0m\u001b[0;34m)\u001b[0m\u001b[0;34m)\u001b[0m\u001b[0;34m\u001b[0m\u001b[0;34m\u001b[0m\u001b[0m\n\u001b[0m\u001b[1;32m      5\u001b[0m \u001b[0mprint\u001b[0m\u001b[0;34m(\u001b[0m\u001b[0mscores\u001b[0m\u001b[0;34m)\u001b[0m\u001b[0;34m\u001b[0m\u001b[0;34m\u001b[0m\u001b[0m\n\u001b[1;32m      6\u001b[0m \u001b[0mbest_tree_size\u001b[0m \u001b[0;34m=\u001b[0m \u001b[0;36m100\u001b[0m\u001b[0;34m\u001b[0m\u001b[0;34m\u001b[0m\u001b[0m\n",
      "\u001b[0;32m/tmp/ipykernel_19/3055530447.py\u001b[0m in \u001b[0;36mget_mae\u001b[0;34m(max_leaf_nodes, X_train, X_test, y_train, y_test)\u001b[0m\n\u001b[1;32m      7\u001b[0m     \u001b[0mmy_model\u001b[0m\u001b[0;34m.\u001b[0m\u001b[0mfit\u001b[0m\u001b[0;34m(\u001b[0m\u001b[0mX_train\u001b[0m\u001b[0;34m,\u001b[0m \u001b[0my_train\u001b[0m\u001b[0;34m)\u001b[0m\u001b[0;34m\u001b[0m\u001b[0;34m\u001b[0m\u001b[0m\n\u001b[1;32m      8\u001b[0m     \u001b[0mpreds_val\u001b[0m \u001b[0;34m=\u001b[0m \u001b[0mmy_model\u001b[0m\u001b[0;34m.\u001b[0m\u001b[0mpredict\u001b[0m\u001b[0;34m(\u001b[0m\u001b[0mX_test\u001b[0m\u001b[0;34m)\u001b[0m\u001b[0;34m\u001b[0m\u001b[0;34m\u001b[0m\u001b[0m\n\u001b[0;32m----> 9\u001b[0;31m     \u001b[0mmae\u001b[0m \u001b[0;34m=\u001b[0m \u001b[0mmean_absolute_error\u001b[0m\u001b[0;34m(\u001b[0m\u001b[0my_test\u001b[0m\u001b[0;34m,\u001b[0m \u001b[0mpreds_val\u001b[0m\u001b[0;34m)\u001b[0m\u001b[0;34m\u001b[0m\u001b[0;34m\u001b[0m\u001b[0m\n\u001b[0m\u001b[1;32m     10\u001b[0m     \u001b[0;32mreturn\u001b[0m\u001b[0;34m(\u001b[0m\u001b[0mmae\u001b[0m\u001b[0;34m)\u001b[0m\u001b[0;34m\u001b[0m\u001b[0;34m\u001b[0m\u001b[0m\n",
      "\u001b[0;31mNameError\u001b[0m: name 'mean_absolute_error' is not defined"
     ]
    }
   ],
   "source": [
    "scores = []\n",
    "max_leaf_nodes = [5,25,50,100,250,500]\n",
    "for i in max_leaf_nodes:\n",
    "    scores.append(get_mae(i, X_train, X_test, y_train, y_test))\n",
    "print(scores)\n",
    "best_tree_size = 100"
   ]
  },
  {
   "cell_type": "code",
   "execution_count": null,
   "id": "4c2a4fda",
   "metadata": {
    "execution": {
     "iopub.execute_input": "2022-05-06T16:03:38.688955Z",
     "iopub.status.busy": "2022-05-06T16:03:38.688591Z",
     "iopub.status.idle": "2022-05-06T16:03:38.768625Z",
     "shell.execute_reply": "2022-05-06T16:03:38.767594Z",
     "shell.execute_reply.started": "2022-05-06T16:03:38.688908Z"
    },
    "papermill": {
     "duration": null,
     "end_time": null,
     "exception": null,
     "start_time": null,
     "status": "pending"
    },
    "tags": []
   },
   "outputs": [],
   "source": [
    "best_model = DecisionTreeRegressor(max_leaf_nodes = 100, random_state=1)\n",
    "best_model.fit(X,y)"
   ]
  },
  {
   "cell_type": "code",
   "execution_count": null,
   "id": "4b237e9c",
   "metadata": {
    "execution": {
     "iopub.execute_input": "2022-05-06T16:03:38.774809Z",
     "iopub.status.busy": "2022-05-06T16:03:38.774555Z",
     "iopub.status.idle": "2022-05-06T16:03:38.781853Z",
     "shell.execute_reply": "2022-05-06T16:03:38.780884Z",
     "shell.execute_reply.started": "2022-05-06T16:03:38.774781Z"
    },
    "papermill": {
     "duration": null,
     "end_time": null,
     "exception": null,
     "start_time": null,
     "status": "pending"
    },
    "tags": []
   },
   "outputs": [],
   "source": [
    "from sklearn.metrics import mean_absolute_error\n",
    "print(\"MAE:\",mean_absolute_error(y_pred,y_test))"
   ]
  },
  {
   "cell_type": "markdown",
   "id": "b6d5d432",
   "metadata": {
    "papermill": {
     "duration": null,
     "end_time": null,
     "exception": null,
     "start_time": null,
     "status": "pending"
    },
    "tags": []
   },
   "source": [
    "**bunu yapma sebebimiz gerçekleşen değerler ile tahminimiz arasındaki farkı görmek.\n",
    "ağacın büyüklüğü arttıkça elimizde kullanarak bu ağacı fitlediğimiz veriler için mean absolute error azalma gösterir ama validationa gelince bir anda artış görürüz ve bu overfittinge yol açar. Eğer bunu çok düşük sayıda ağaçlarla da yaparsak bu sefer de mae ikisinde de azalma göstererek underfittinge yol açar. bu durumda biz öyle bir nokta belirlemeliyiz ki validasonda en düşük hatayı, en mantıklı ayrımı ve en doğru davranışı yakalayan ağacı oluşturabilelim. Ağacın büyüklüğünü ayırlamak için max leaf nodeslar belirlemeliyiz.**"
   ]
  },
  {
   "cell_type": "code",
   "execution_count": null,
   "id": "45441a55",
   "metadata": {
    "execution": {
     "iopub.execute_input": "2022-05-06T16:03:38.783409Z",
     "iopub.status.busy": "2022-05-06T16:03:38.783146Z",
     "iopub.status.idle": "2022-05-06T16:03:40.322616Z",
     "shell.execute_reply": "2022-05-06T16:03:40.321624Z",
     "shell.execute_reply.started": "2022-05-06T16:03:38.783379Z"
    },
    "papermill": {
     "duration": null,
     "end_time": null,
     "exception": null,
     "start_time": null,
     "status": "pending"
    },
    "tags": []
   },
   "outputs": [],
   "source": [
    "for i in range(2,40):\n",
    "  # Create Decision Tree classifer object\n",
    "  clf = DecisionTreeClassifier(max_leaf_nodes=i)\n",
    "\n",
    "  # Train Decision Tree Classifer\n",
    "  clf = clf.fit(X_train,y_train)\n",
    "\n",
    "  #Predict the response for test dataset\n",
    "  y_pred = clf.predict(X_test)\n",
    "\n",
    "  # Model Accuracy, how often is the classifier correct? Since it is classification I used accuracy instead of MAE which is used in regression\n",
    "  print(\"For max leaf node \", i,\"Accuracy:\", metrics.accuracy_score(y_test, y_pred))"
   ]
  },
  {
   "cell_type": "markdown",
   "id": "ad1fc6c2",
   "metadata": {
    "papermill": {
     "duration": null,
     "end_time": null,
     "exception": null,
     "start_time": null,
     "status": "pending"
    },
    "tags": []
   },
   "source": [
    "26) Random Forest'ta max_leaf_nodes kullanılır mı? Bu soruyu cevaplarken koddan yardım alıp göstermeyi unutmayın.\n",
    "**#Evet kullanılır. Aşağıda kullandım ve deciison treeden daha iyi sonuç verdi.**"
   ]
  },
  {
   "cell_type": "code",
   "execution_count": null,
   "id": "9820ec36",
   "metadata": {
    "execution": {
     "iopub.execute_input": "2022-05-06T16:03:40.324101Z",
     "iopub.status.busy": "2022-05-06T16:03:40.323873Z",
     "iopub.status.idle": "2022-05-06T16:03:41.239671Z",
     "shell.execute_reply": "2022-05-06T16:03:41.238611Z",
     "shell.execute_reply.started": "2022-05-06T16:03:40.324073Z"
    },
    "papermill": {
     "duration": null,
     "end_time": null,
     "exception": null,
     "start_time": null,
     "status": "pending"
    },
    "tags": []
   },
   "outputs": [],
   "source": [
    "#Evet kullanılır. Aşağıda kullandım ve deciison treeden daha iyi sonuç verdi.\n",
    "\n",
    "from sklearn.ensemble import RandomForestClassifier\n",
    "from sklearn.datasets import make_classification\n",
    "\n",
    "# Plug in appropriate max_depth and random_state parameters \n",
    "RFModel =  RandomForestClassifier(max_leaf_nodes=20, random_state= 1)\n",
    "\n",
    "# Model and fit\n",
    "RFModel.fit(X_train, y_train)\n",
    "y_pred = RFModel.predict(X_test)\n",
    "\n",
    "# Model evaluation\n",
    "print(\"Random Forest Model\")\n",
    "print(\"Accuracy:\", metrics.accuracy_score(y_test,y_pred))"
   ]
  },
  {
   "cell_type": "markdown",
   "id": "e3473be1",
   "metadata": {
    "papermill": {
     "duration": null,
     "end_time": null,
     "exception": null,
     "start_time": null,
     "status": "pending"
    },
    "tags": []
   },
   "source": [
    "27) 24. Ve 25. Soruda yaptığımız işlemin aynısını random Forest modeli için de yapın."
   ]
  },
  {
   "cell_type": "code",
   "execution_count": null,
   "id": "4143bee1",
   "metadata": {
    "execution": {
     "iopub.execute_input": "2022-05-06T16:03:41.241115Z",
     "iopub.status.busy": "2022-05-06T16:03:41.240870Z",
     "iopub.status.idle": "2022-05-06T16:03:41.293507Z",
     "shell.execute_reply": "2022-05-06T16:03:41.292353Z",
     "shell.execute_reply.started": "2022-05-06T16:03:41.241083Z"
    },
    "papermill": {
     "duration": null,
     "end_time": null,
     "exception": null,
     "start_time": null,
     "status": "pending"
    },
    "tags": []
   },
   "outputs": [],
   "source": [
    "RF_val_mae = mean_absolute_error(y_test,RFModel.predict(X_test))\n",
    "# Model evaluation\n",
    "print(\"Validation MAE for Random Forest Model:{}\".format(RF_val_mae))"
   ]
  },
  {
   "cell_type": "code",
   "execution_count": null,
   "id": "e81664e5",
   "metadata": {
    "execution": {
     "iopub.execute_input": "2022-05-06T16:03:41.295399Z",
     "iopub.status.busy": "2022-05-06T16:03:41.295137Z",
     "iopub.status.idle": "2022-05-06T16:04:14.557326Z",
     "shell.execute_reply": "2022-05-06T16:04:14.556229Z",
     "shell.execute_reply.started": "2022-05-06T16:03:41.295368Z"
    },
    "papermill": {
     "duration": null,
     "end_time": null,
     "exception": null,
     "start_time": null,
     "status": "pending"
    },
    "tags": []
   },
   "outputs": [],
   "source": [
    "for i in range(2,40):\n",
    "  # Plug in appropriate max_depth and random_state parameters \n",
    "  RFModel =  RandomForestClassifier(max_leaf_nodes=i, random_state= 1)\n",
    "\n",
    "  # Model and fit\n",
    "  RFModel.fit(X_train, y_train)\n",
    "  y_pred = RFModel.predict(X_test)\n",
    "\n",
    "  # Model evaluation\n",
    "  print(\"For leaf node \",i,\" Accuracy:\", metrics.accuracy_score(y_test,y_pred));"
   ]
  },
  {
   "cell_type": "markdown",
   "id": "c5c5657e",
   "metadata": {
    "papermill": {
     "duration": null,
     "end_time": null,
     "exception": null,
     "start_time": null,
     "status": "pending"
    },
    "tags": []
   },
   "source": [
    "28) Random forest ve decision tree'nin avantajlarını ve dezavantajlarını yorumlayınız."
   ]
  },
  {
   "cell_type": "markdown",
   "id": "c9264f9b",
   "metadata": {
    "papermill": {
     "duration": null,
     "end_time": null,
     "exception": null,
     "start_time": null,
     "status": "pending"
    },
    "tags": []
   },
   "source": [
    "# 28.1) Random Forest Avantajları\n",
    "**Olabildiğince ağaç oluşturup çıktıları birleştirerek overfittingi azaltır \n",
    "Tek bir ağaca kıyasla varyansı azaltır ve accuracyi arttırmaya yardımcı olur \n",
    "Hem sınıflandırma hem regresyon problemlerini çözer\n",
    "Sınıflandırma ve regresyon problemlerine karşı esnektir.\n",
    "Hem ayrık hem de sürekli değerlerle iyi çalışır \n",
    "Verilerde bulunan eksik değerler otomatikleştirilir\n",
    "Verilerin normalleştirilmesine gerek duyulmaz \n",
    "İlintili olan featureları ortaya çıkarır.\n",
    "Standartlaştırma ve normalleştirme gerekmez\n",
    "Kararlıdır. Yeni bir veri eklense bir ağaç etkileneceğinden geneli çok etkilenmez\n",
    "Random forest ensemble learning olduğu için verinin az olduğu ya da dengeli olmadığı durumda dahaiyi çalışır.\n",
    "**\n",
    "# 28.1) Random Forest Dezvantajları\n",
    "Çıktıları birleştirmek için çok fazla ağaca ihtiyaç duyduğundan çok fazla hesaplama gücü ve kaynak gerektirir.\n",
    "Çok fazla ağacın olması ve oyları çoğuna göre karar verdiğinden eğitim kısmını da uzatır.\n",
    "Değişkenin önemi belirlenemez \n",
    "Diğer algoritmalara göre daha karışık olmasına sebep olabilir. \n",
    "Görselleştirme karmaşıktır çünkü birden fazla ağaca sahip. Yorumlamayı zorlaştırır \n",
    "Oluşturulması ve analiz edilmesi zaman alır \n",
    "Doğrusal yöntemler için kullanılmaz\n"
   ]
  },
  {
   "cell_type": "markdown",
   "id": "1aa35eda",
   "metadata": {
    "papermill": {
     "duration": null,
     "end_time": null,
     "exception": null,
     "start_time": null,
     "status": "pending"
    },
    "tags": []
   },
   "source": [
    "# 28.2) Decision Avantajları\n",
    "Doğrusal olmayan verileri sınıflandırabilir\n",
    "Düşük hesaplama gerekir \n",
    "Hızlı çalışır \n",
    "Algoritmayı anlamak yorumlamak ve görselleştirmek kolaydır.\n",
    "Hem sınıflandırma hem regresyon problemleri için kullanılabilir \n",
    "Hem ayrık hem sürekli değişkenleri işleyebilir.\n",
    "Eksik değerleri otomatik olarak işleyebilir\n",
    "Eğitim süresi daha azdır.\n",
    "Eğitilmiş veriler üzerinde çok iyi performans gösterir.\n",
    "Parametrik değildir.\n",
    "\n",
    "# 28.2) Decision Dezvantajları\n",
    "Overfittinge yol açar. En büyük problemlerinden biri budur. Ezbere sebep olacağından kullanış amacından sapmaya başlar ve tahminleri ezberden verir.\n",
    "Doğruluğu düşüktür.\n",
    "Verileri sığdırmak için sürekli yeni düğümler üretir ve ağaç yorumlanamayacak bir karmaşıklığa erişir.\n",
    "Görünmeyen veriler üzerinde çok fazla hata yapar\n",
    "Çıktıda çok yüksek varyans olasılığı olduğundan tahminde bir çok hataya yol açar.\n",
    "Yeni bir veri noktası eklemek genel ağacın yeniden oluşturulmasına yol açabilir.\n",
    "Gürültülerden dolayı unstable hale gelir.\n",
    "Büyük veri kümeleri için uygun değildir.\n",
    "Optimizasyon garantisi yok.\n",
    "Yüksek sapma gerçekleşebilir."
   ]
  }
 ],
 "metadata": {
  "kernelspec": {
   "display_name": "Python 3",
   "language": "python",
   "name": "python3"
  },
  "language_info": {
   "codemirror_mode": {
    "name": "ipython",
    "version": 3
   },
   "file_extension": ".py",
   "mimetype": "text/x-python",
   "name": "python",
   "nbconvert_exporter": "python",
   "pygments_lexer": "ipython3",
   "version": "3.7.12"
  },
  "papermill": {
   "default_parameters": {},
   "duration": 42.883165,
   "end_time": "2022-05-06T16:05:37.355372",
   "environment_variables": {},
   "exception": true,
   "input_path": "__notebook__.ipynb",
   "output_path": "__notebook__.ipynb",
   "parameters": {},
   "start_time": "2022-05-06T16:04:54.472207",
   "version": "2.3.4"
  }
 },
 "nbformat": 4,
 "nbformat_minor": 5
}
